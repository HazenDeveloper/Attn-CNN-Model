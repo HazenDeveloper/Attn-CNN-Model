{
  "cells": [
    {
      "cell_type": "markdown",
      "metadata": {
        "id": "view-in-github",
        "colab_type": "text"
      },
      "source": [
        "<a href=\"https://colab.research.google.com/github/HazenDeveloper/Attn-CNN-Model/blob/main/CNN_FE_SVM_RF-LungsCancer-featureMap-00.ipynb\" target=\"_parent\"><img src=\"https://colab.research.google.com/assets/colab-badge.svg\" alt=\"Open In Colab\"/></a>"
      ]
    },
    {
      "cell_type": "code",
      "source": [
        "from google.colab import drive\n",
        "drive.mount('/content/drive')"
      ],
      "metadata": {
        "id": "IUzMl-LWi0Pl",
        "outputId": "cf9da848-f910-415f-fc38-1c63fd9df2ef",
        "colab": {
          "base_uri": "https://localhost:8080/"
        }
      },
      "execution_count": 1,
      "outputs": [
        {
          "output_type": "stream",
          "name": "stdout",
          "text": [
            "Mounted at /content/drive\n"
          ]
        }
      ]
    },
    {
      "cell_type": "code",
      "execution_count": 2,
      "metadata": {
        "id": "bFbjIBEyceKU"
      },
      "outputs": [],
      "source": [
        "#!pip install imutils\n",
        "import keras\n",
        "import tensorflow as tf\n",
        "\n",
        "import os\n",
        "from keras.layers import Input\n",
        "from tensorflow.keras.preprocessing.image import ImageDataGenerator\n",
        "from keras.layers import Flatten, Dense, Conv2D, MaxPooling2D, Dropout\n",
        "from tensorflow.keras.layers import Dropout\n",
        "from tensorflow.keras.layers import Flatten\n",
        "from tensorflow.keras.layers import Dense\n",
        "from tensorflow.keras.layers import Layer\n",
        "from tensorflow.keras.layers import Input\n",
        "from keras.layers import BatchNormalization\n",
        "from tensorflow.keras import Sequential\n",
        "from tensorflow.keras.optimizers import Adam\n",
        "from tensorflow.keras.callbacks import ModelCheckpoint\n",
        "from tensorflow.keras.preprocessing.image import img_to_array\n",
        "from tensorflow.keras.preprocessing.image import load_img\n",
        "from tensorflow.keras.utils import to_categorical\n",
        "from sklearn.preprocessing import LabelBinarizer\n",
        "from sklearn.model_selection import train_test_split\n",
        "from sklearn.metrics import classification_report\n",
        "from imutils import paths\n",
        "import matplotlib.pyplot as plt\n",
        "from keras.models import Model\n",
        "from sklearn.utils import shuffle\n",
        "from cv2 import imread\n",
        "import numpy as np\n",
        "import pandas as pd\n"
      ]
    },
    {
      "cell_type": "code",
      "execution_count": 3,
      "metadata": {
        "id": "d4fuzmF_0Yvr",
        "outputId": "4d844412-03b0-4226-fc5b-1c85731426c9",
        "colab": {
          "base_uri": "https://localhost:8080/"
        }
      },
      "outputs": [
        {
          "output_type": "stream",
          "name": "stdout",
          "text": [
            "['severe', 'severe', 'severe', 'severe', 'severe', 'severe', 'severe', 'severe', 'severe', 'severe', 'severe', 'severe', 'severe', 'severe', 'severe', 'severe', 'severe', 'severe', 'severe', 'severe', 'severe', 'severe', 'severe', 'severe', 'severe', 'severe', 'severe', 'severe', 'severe', 'severe', 'severe', 'severe', 'severe', 'severe', 'severe', 'severe', 'severe', 'severe', 'severe', 'severe', 'severe', 'severe', 'severe', 'severe', 'severe', 'severe', 'severe', 'severe', 'severe', 'severe', 'severe', 'severe', 'severe', 'severe', 'severe', 'severe', 'severe', 'severe', 'severe', 'severe', 'severe', 'severe', 'severe', 'severe', 'severe', 'severe', 'severe', 'severe', 'severe', 'severe', 'severe', 'severe', 'severe', 'severe', 'severe', 'severe', 'severe', 'severe', 'severe', 'severe', 'severe', 'severe', 'severe', 'severe', 'severe', 'severe', 'severe', 'severe', 'severe', 'severe', 'severe', 'severe', 'severe', 'severe', 'severe', 'severe', 'severe', 'severe', 'severe', 'severe', 'severe', 'severe', 'severe', 'severe', 'severe', 'severe', 'severe', 'severe', 'severe', 'severe', 'severe', 'severe', 'severe', 'severe', 'severe', 'severe', 'severe', 'severe', 'severe', 'severe', 'severe', 'severe', 'severe', 'severe', 'severe', 'severe', 'severe', 'severe', 'severe', 'severe', 'severe', 'severe', 'severe', 'severe', 'severe', 'severe', 'severe', 'severe', 'severe', 'severe', 'severe', 'severe', 'severe', 'severe', 'severe', 'severe', 'severe', 'severe', 'severe', 'severe', 'severe', 'severe', 'severe', 'severe', 'severe', 'severe', 'severe', 'severe', 'severe', 'severe', 'severe', 'severe', 'severe', 'severe', 'severe', 'severe', 'severe', 'severe', 'severe', 'severe', 'severe', 'severe', 'severe', 'severe', 'severe', 'severe', 'severe', 'severe', 'severe', 'severe', 'severe', 'severe', 'severe', 'severe', 'severe', 'severe', 'severe', 'severe', 'severe', 'severe', 'severe', 'severe', 'severe', 'severe', 'severe', 'severe', 'severe', 'severe', 'severe', 'severe', 'severe', 'severe', 'severe', 'severe', 'severe', 'severe', 'severe', 'severe', 'severe', 'severe', 'severe', 'severe', 'severe', 'severe', 'severe', 'severe', 'severe', 'severe', 'severe', 'severe', 'severe', 'severe', 'severe', 'severe', 'severe', 'severe', 'severe', 'severe', 'severe', 'severe', 'severe', 'severe', 'severe', 'severe', 'severe', 'severe', 'severe', 'severe', 'severe', 'severe', 'severe', 'severe', 'severe', 'severe', 'severe', 'severe', 'severe', 'severe', 'severe', 'severe', 'severe', 'severe', 'severe', 'severe', 'mild', 'mild', 'mild', 'mild', 'mild', 'mild', 'mild', 'mild', 'mild', 'mild', 'mild', 'mild', 'mild', 'mild', 'mild', 'mild', 'mild', 'mild', 'mild', 'mild', 'mild', 'mild', 'mild', 'mild', 'mild', 'mild', 'mild', 'mild', 'mild', 'mild', 'mild', 'mild', 'mild', 'mild', 'mild', 'mild', 'mild', 'mild', 'mild', 'mild', 'mild', 'mild', 'mild', 'mild', 'mild', 'mild', 'mild', 'mild', 'mild', 'mild', 'mild', 'mild', 'mild', 'mild', 'mild', 'mild', 'mild', 'mild', 'mild', 'mild', 'mild', 'mild', 'mild', 'mild', 'mild', 'mild', 'mild', 'mild', 'mild', 'mild', 'mild', 'mild', 'mild', 'mild', 'mild', 'mild', 'mild', 'mild', 'mild', 'mild', 'mild', 'mild', 'mild', 'mild', 'mild', 'mild', 'mild', 'mild', 'mild', 'mild', 'mild', 'mild', 'mild', 'mild', 'mild', 'mild', 'mild', 'mild', 'mild', 'mild', 'mild', 'mild', 'mild', 'mild', 'mild', 'mild', 'mild', 'mild', 'mild', 'mild', 'mild', 'mild', 'mild', 'mild', 'mild', 'mild', 'mild', 'mild', 'mild', 'mild', 'mild', 'mild', 'mild', 'mild', 'mild', 'mild', 'mild', 'mild', 'mild', 'mild', 'mild', 'mild', 'mild', 'mild', 'mild', 'mild', 'mild', 'mild', 'mild', 'mild', 'mild', 'mild', 'mild', 'mild', 'mild', 'mild', 'mild', 'mild', 'mild', 'mild', 'mild', 'mild', 'mild', 'normal', 'normal', 'normal', 'normal', 'normal', 'normal', 'normal', 'normal', 'normal', 'normal', 'normal', 'normal', 'normal', 'normal', 'normal', 'normal', 'normal', 'normal', 'normal', 'normal', 'normal', 'normal', 'normal', 'normal', 'normal', 'normal', 'normal', 'normal', 'normal', 'normal', 'normal', 'normal', 'normal', 'normal', 'normal', 'normal', 'normal', 'normal', 'normal', 'normal', 'normal', 'normal', 'normal', 'normal', 'normal', 'normal', 'normal', 'normal', 'normal', 'normal', 'normal', 'normal', 'normal', 'normal', 'normal', 'normal', 'normal', 'normal', 'normal', 'normal', 'normal', 'normal', 'normal', 'normal', 'normal', 'normal', 'normal', 'normal', 'normal', 'normal', 'normal', 'normal', 'normal', 'normal', 'normal', 'normal', 'normal', 'normal', 'normal', 'normal', 'normal', 'normal', 'normal', 'normal', 'normal', 'normal', 'normal', 'normal', 'normal', 'normal', 'normal', 'normal', 'normal', 'normal', 'normal', 'normal', 'normal', 'normal', 'normal', 'normal', 'normal', 'normal', 'normal', 'normal', 'normal', 'normal', 'normal', 'normal', 'normal', 'normal', 'normal', 'normal', 'normal', 'normal', 'normal', 'normal', 'normal', 'normal', 'normal', 'normal', 'normal', 'normal', 'normal', 'normal', 'normal', 'normal', 'normal', 'normal', 'normal', 'normal', 'normal', 'normal', 'normal', 'normal', 'normal', 'normal', 'normal', 'normal', 'normal', 'normal', 'normal', 'normal', 'normal', 'normal', 'normal', 'normal', 'normal', 'normal', 'normal', 'normal', 'normal', 'normal', 'normal', 'normal', 'normal', 'normal', 'normal', 'normal', 'normal', 'normal', 'normal', 'normal', 'normal', 'normal', 'normal', 'normal', 'normal', 'normal', 'normal', 'normal', 'normal', 'normal', 'normal', 'normal', 'normal', 'normal', 'normal', 'normal', 'normal', 'normal', 'normal', 'normal', 'normal', 'normal', 'normal', 'normal', 'normal', 'normal', 'normal', 'normal', 'normal', 'normal', 'normal', 'normal', 'normal', 'normal', 'normal', 'normal', 'normal', 'normal', 'normal', 'normal', 'normal', 'normal', 'normal', 'normal', 'normal', 'normal', 'normal', 'normal', 'normal', 'normal', 'normal', 'normal', 'normal', 'normal', 'normal', 'normal', 'normal', 'normal', 'normal', 'normal', 'normal', 'normal', 'normal', 'normal', 'normal', 'normal', 'normal', 'normal', 'normal', 'normal', 'normal', 'normal', 'normal', 'normal', 'normal', 'normal', 'normal', 'normal', 'normal', 'normal', 'normal', 'normal', 'normal', 'normal', 'normal', 'normal', 'normal', 'normal', 'normal', 'normal', 'normal', 'normal', 'normal', 'normal', 'normal', 'normal', 'normal', 'normal', 'normal', 'normal', 'normal', 'normal', 'normal', 'normal', 'normal', 'normal', 'normal', 'normal', 'normal', 'normal', 'normal', 'normal', 'normal', 'normal', 'normal', 'normal', 'normal', 'normal', 'normal', 'normal', 'normal', 'normal', 'normal', 'normal', 'normal', 'normal', 'normal', 'normal', 'normal', 'normal', 'normal', 'normal', 'normal', 'normal', 'normal', 'normal', 'normal', 'normal', 'normal', 'normal', 'normal', 'normal', 'normal', 'normal', 'normal', 'normal', 'normal', 'normal', 'normal', 'normal', 'normal', 'normal', 'normal', 'normal', 'normal', 'normal', 'normal', 'normal', 'normal', 'normal', 'normal', 'normal', 'normal', 'normal', 'normal', 'normal', 'normal', 'normal', 'normal', 'normal', 'normal', 'normal', 'normal', 'normal', 'normal', 'normal', 'normal', 'normal', 'normal', 'normal', 'normal', 'normal', 'normal', 'normal', 'normal', 'normal', 'normal', 'normal', 'normal', 'normal', 'normal', 'normal', 'normal', 'normal', 'normal', 'normal', 'normal', 'normal', 'normal', 'normal', 'normal', 'normal', 'normal', 'normal', 'normal', 'normal', 'normal', 'normal', 'normal', 'normal', 'normal', 'normal', 'normal', 'normal', 'normal', 'normal', 'normal', 'normal', 'normal', 'normal', 'normal', 'normal', 'normal', 'normal', 'normal', 'normal', 'normal', 'normal', 'normal', 'normal', 'normal', 'normal', 'normal', 'normal', 'normal', 'normal', 'normal', 'normal', 'normal', 'normal', 'normal', 'normal', 'normal', 'normal', 'normal', 'normal', 'normal', 'normal', 'normal', 'normal', 'normal', 'normal', 'normal', 'normal', 'normal', 'normal', 'normal', 'normal', 'normal', 'normal', 'normal', 'normal', 'normal', 'normal', 'normal', 'normal', 'normal', 'normal', 'normal', 'normal', 'normal', 'normal', 'normal', 'normal', 'normal', 'normal', 'normal', 'normal', 'normal', 'normal', 'normal', 'normal', 'normal', 'normal', 'normal', 'normal', 'normal', 'normal', 'normal', 'normal', 'normal', 'normal', 'normal', 'normal', 'normal', 'normal', 'normal', 'normal', 'normal', 'normal', 'normal', 'normal', 'normal', 'normal', 'normal', 'normal', 'normal', 'normal', 'normal', 'normal', 'normal', 'normal', 'normal', 'normal', 'normal', 'normal', 'normal', 'normal', 'normal', 'normal', 'normal', 'normal', 'normal', 'normal', 'normal', 'normal', 'normal', 'normal', 'normal', 'normal', 'normal', 'normal', 'normal', 'normal', 'normal', 'normal', 'normal', 'normal', 'normal', 'normal', 'normal', 'normal', 'normal', 'normal', 'normal', 'normal', 'normal', 'normal', 'normal', 'normal', 'normal', 'normal', 'normal', 'normal', 'normal', 'normal', 'normal', 'normal', 'normal', 'normal', 'normal', 'normal', 'normal', 'normal', 'normal', 'normal', 'normal', 'normal', 'normal', 'normal', 'normal', 'normal', 'normal', 'normal', 'normal', 'normal', 'normal', 'normal', 'normal', 'normal', 'normal', 'normal', 'normal', 'normal', 'moderate', 'moderate', 'moderate', 'moderate', 'moderate', 'moderate', 'moderate', 'moderate', 'moderate', 'moderate', 'moderate', 'moderate', 'moderate', 'moderate', 'moderate', 'moderate', 'moderate', 'moderate', 'moderate', 'moderate', 'moderate', 'moderate', 'moderate', 'moderate', 'moderate', 'moderate', 'moderate', 'moderate', 'moderate', 'moderate', 'moderate', 'moderate', 'moderate', 'moderate', 'moderate', 'moderate', 'moderate', 'moderate', 'moderate', 'moderate', 'moderate', 'moderate', 'moderate', 'moderate', 'moderate', 'moderate', 'moderate', 'moderate', 'moderate', 'moderate', 'moderate', 'moderate', 'moderate', 'moderate', 'moderate', 'moderate', 'moderate', 'moderate', 'moderate', 'moderate', 'moderate', 'moderate', 'moderate', 'moderate', 'moderate', 'moderate', 'moderate', 'moderate', 'moderate', 'moderate', 'moderate', 'moderate', 'moderate', 'moderate', 'moderate', 'moderate', 'moderate', 'moderate', 'moderate', 'moderate', 'moderate', 'moderate', 'moderate', 'moderate', 'moderate', 'moderate', 'moderate', 'moderate', 'moderate', 'moderate', 'moderate', 'moderate', 'moderate', 'moderate', 'moderate', 'moderate', 'moderate', 'moderate', 'moderate', 'moderate', 'moderate', 'moderate', 'moderate', 'moderate', 'moderate', 'moderate', 'moderate', 'moderate', 'moderate', 'moderate', 'moderate', 'moderate', 'moderate', 'moderate', 'moderate', 'moderate', 'moderate', 'moderate', 'moderate', 'moderate', 'moderate', 'moderate', 'moderate', 'moderate', 'moderate', 'moderate', 'moderate', 'moderate', 'moderate', 'moderate', 'moderate', 'moderate', 'moderate', 'moderate', 'moderate', 'moderate', 'moderate', 'moderate', 'moderate', 'moderate', 'moderate', 'moderate', 'moderate', 'moderate', 'moderate', 'moderate', 'moderate', 'moderate', 'moderate', 'moderate', 'moderate', 'moderate', 'moderate', 'moderate', 'moderate', 'moderate', 'moderate', 'moderate', 'moderate', 'moderate', 'moderate', 'moderate', 'moderate', 'moderate', 'moderate', 'moderate', 'moderate', 'moderate', 'moderate', 'moderate', 'moderate', 'moderate', 'moderate', 'moderate', 'moderate', 'moderate', 'moderate', 'moderate', 'moderate', 'moderate', 'moderate', 'moderate', 'moderate', 'moderate', 'moderate', 'moderate', 'moderate', 'moderate', 'moderate', 'moderate', 'moderate', 'moderate', 'moderate', 'moderate', 'moderate', 'moderate', 'moderate', 'moderate', 'moderate', 'moderate', 'moderate', 'moderate', 'moderate', 'moderate', 'moderate', 'moderate', 'moderate', 'moderate', 'moderate', 'moderate', 'moderate', 'moderate', 'moderate', 'moderate', 'moderate', 'moderate', 'moderate', 'moderate', 'moderate', 'moderate', 'moderate', 'moderate', 'moderate', 'moderate', 'moderate', 'moderate', 'moderate', 'moderate', 'moderate', 'moderate', 'moderate', 'moderate', 'moderate', 'moderate', 'moderate', 'moderate', 'moderate', 'moderate', 'moderate', 'moderate', 'moderate', 'moderate', 'moderate', 'moderate', 'moderate', 'moderate', 'moderate']\n"
          ]
        }
      ],
      "source": [
        "from pandas.core.api import unique\n",
        "from os import listdir, walk\n",
        "from os.path import isfile, join\n",
        "import cv2\n",
        "from google.colab.patches import cv2_imshow\n",
        "from imutils import paths\n",
        "\n",
        "path = list(paths.list_images('/content/drive/MyDrive/ML-Datasets/Messidore/Messidor_dataset_without_clahe'))\n",
        "labs = [i.split(os.path.sep)[-2] for i in path]\n",
        "\n",
        "print(labs)\n",
        "# print('testing', imagePaths[1].split(os.path.sep)[-2])\n",
        "\n",
        "# img = cv2.imread(imagePaths[2])\n",
        "# cv2_imshow(img)\n",
        "\n"
      ]
    },
    {
      "cell_type": "code",
      "execution_count": 4,
      "metadata": {
        "id": "3NJxQMYNe0cC",
        "outputId": "74ac569f-4747-4e68-f0fb-63eb5c2669ef",
        "colab": {
          "base_uri": "https://localhost:8080/"
        }
      },
      "outputs": [
        {
          "output_type": "stream",
          "name": "stdout",
          "text": [
            "1200 1200\n",
            "(1200, 256, 256, 3)\n",
            "(1200, 4)\n"
          ]
        }
      ],
      "source": [
        "\n",
        "width,height=256,256\n",
        "depth = 3\n",
        "input_shape = (height, width, depth)\n",
        "\n",
        "classes = 4\n",
        "\n",
        "imagePaths = list(paths.list_images('/content/drive/MyDrive/ML-Datasets/Messidore/Messidor_dataset_without_clahe'))\n",
        "\n",
        "# train_data_dir = '/content/drive/MyDrive/ML-Datasets/LungsCancer/Normal'\n",
        "# test_data_dir = '/content/drive/MyDrive/ML-Datasets/LungsCancer/Bengin'\n",
        "# valid_data_dir = '/content/drive/MyDrive/ML-Datasets/LungsCancer/Malignant'\n",
        "\n",
        "data = []\n",
        "labels = []\n",
        "\n",
        "for imagePath in imagePaths:\n",
        "    label = imagePath.split(os.path.sep)[-2]\n",
        "    image = load_img(imagePath, target_size=(width, height))\n",
        "    image = img_to_array(image)\n",
        "    data.append(image)\n",
        "    labels.append(label)\n",
        "\n",
        "data = np.array(data, dtype=\"float32\")\n",
        "labels = np.array(labels)\n",
        "print(len(data), len(labels))\n",
        "\n",
        "from sklearn.preprocessing import  LabelEncoder\n",
        "from sklearn.preprocessing import OneHotEncoder\n",
        "\n",
        "# le = LabelEncoder()\n",
        "# labels = le.fit_transform(labels)\n",
        "\n",
        "# ohe = OneHotEncoder()\n",
        "# labels = ohe.fit_transform(labels)\n",
        "\n",
        "lb = LabelBinarizer()\n",
        "labels = lb.fit_transform(labels)\n",
        "\n",
        "#labels = to_categorical(labels)\n",
        "\n",
        "data, labels = shuffle(data, labels)\n",
        "\n",
        "print(data.shape)\n",
        "print(labels.shape)"
      ]
    },
    {
      "cell_type": "code",
      "source": [],
      "metadata": {
        "id": "7P7hNcblOobe"
      },
      "execution_count": null,
      "outputs": []
    },
    {
      "cell_type": "code",
      "execution_count": 5,
      "metadata": {
        "colab": {
          "base_uri": "https://localhost:8080/"
        },
        "id": "DtJkMb8RgeP3",
        "outputId": "9e3bc6d0-2aeb-4601-dd1d-bb12e7838b29"
      },
      "outputs": [
        {
          "output_type": "stream",
          "name": "stdout",
          "text": [
            "Train images: (960, 256, 256, 3)\n",
            "Test images: (240, 256, 256, 3)\n",
            "Train label: (960, 4)\n",
            "Test label: (240, 4)\n"
          ]
        }
      ],
      "source": [
        "test_ratio = 0.2\n",
        "# train is now 75% of the entire data set\n",
        "x_train, x_test, y_train, y_test = train_test_split(data, labels, test_size=test_ratio, stratify=labels)\n",
        "\n",
        "print(\"Train images:\",x_train.shape)\n",
        "print(\"Test images:\",x_test.shape)\n",
        "print(\"Train label:\",y_train.shape)\n",
        "print(\"Test label:\",y_test.shape)"
      ]
    },
    {
      "cell_type": "code",
      "source": [
        "xx_train, x_valid, yy_train, y_valid = train_test_split(x_train, y_train,test_size=test_ratio)"
      ],
      "metadata": {
        "id": "miBqYK_eylzi"
      },
      "execution_count": null,
      "outputs": []
    },
    {
      "cell_type": "code",
      "source": [
        "print(\"Train images:\",x_train.shape)\n",
        "print(\"Test images:\",x_valid.shape)\n",
        "print(\"Train label:\",y_train.shape)\n",
        "print(\"Test label:\",y_valid.shape)"
      ],
      "metadata": {
        "id": "SbJEYBdvy8P5",
        "outputId": "09b5eb54-a5b2-4e8b-b2e2-de4fef9ccb68",
        "colab": {
          "base_uri": "https://localhost:8080/"
        }
      },
      "execution_count": null,
      "outputs": [
        {
          "output_type": "stream",
          "name": "stdout",
          "text": [
            "Train images: (768, 256, 256, 3)\n",
            "Test images: (192, 256, 256, 3)\n",
            "Train label: (768, 4)\n",
            "Test label: (192, 4)\n"
          ]
        }
      ]
    },
    {
      "cell_type": "code",
      "source": [
        "(x_train.shape[0])"
      ],
      "metadata": {
        "id": "87BtFGvszq8F",
        "outputId": "396c456a-9caa-4310-8fff-b948bddc9cf4",
        "colab": {
          "base_uri": "https://localhost:8080/"
        }
      },
      "execution_count": null,
      "outputs": [
        {
          "output_type": "execute_result",
          "data": {
            "text/plain": [
              "768"
            ]
          },
          "metadata": {},
          "execution_count": 15
        }
      ]
    },
    {
      "cell_type": "code",
      "source": [
        "def MiniVGGNet(width, heigth, depth, classes):\n",
        "\tmodel = Sequential()\n",
        "\tinput_shape = (heigth, width, depth)\n",
        "\tchanDim = -1\n",
        "\n",
        "\tif keras.backend.image_data_format() == \"channel_first\":\n",
        "\t\tinput_shape = (depth, heigth, width)\n",
        "\t\tchanDim = 1\n",
        "\n",
        "\tmodel.add(Conv2D(8,(3,3), padding=\"same\", input_shape=input_shape, activation=\"relu\"))\n",
        "\t# model.add(BatchNormalization(axis=chanDim))\n",
        "\t# model.add(Conv2D(32,(3,3), padding=\"same\", input_shape=input_shape, activation=\"relu\"))\n",
        "\t# model.add(BatchNormalization(axis=chanDim))\n",
        "\tmodel.add(MaxPooling2D(pool_size=(2,2), strides=2))\n",
        "\t# model.add(Dropout(0.25))\n",
        "\n",
        "\t# model.add(Conv2D(64,(3,3), padding=\"same\", input_shape=input_shape, activation=\"relu\"))\n",
        "\t# model.add(BatchNormalization(axis=chanDim))\n",
        "\tmodel.add(Conv2D(16,(3,3), padding=\"same\", activation=\"relu\"))\n",
        "\t# model.add(BatchNormalization(axis=chanDim))\n",
        "\tmodel.add(MaxPooling2D(pool_size=(2,2),strides=2))\n",
        "\tmodel.add(Dropout(0.25))\n",
        "\n",
        "\tmodel.add(Conv2D(32,(3,3), padding=\"same\", activation=\"relu\"))\n",
        "\t# model.add(BatchNormalization(axis=chanDim))\n",
        "\tmodel.add(MaxPooling2D(pool_size=(2,2), strides=2))\n",
        "\t# model.add(Dropout(0.25))\n",
        "\n",
        "\tmodel.add(Conv2D(64,(3,3), padding=\"same\", activation=\"relu\"))\n",
        "\t# model.add(BatchNormalization(axis=chanDim))\n",
        "\tmodel.add(MaxPooling2D(pool_size=(2,2), strides=2))\n",
        "\tmodel.add(Dropout(0.25))\n",
        "\n",
        "\n",
        "\tmodel.add(BatchNormalization())\n",
        "\tmodel.add(Flatten())\n",
        "\tmodel.add(Dense(4096))\n",
        "\t# model.add(Dense(1024))\n",
        "\tmodel.add(Dense(1024, activation=\"relu\"))\n",
        "\t# model.add(BatchNormalization())\n",
        "\tmodel.add(Dropout(0.5))\n",
        "\tmodel.add(Dense(classes, activation=\"softmax\"))\n",
        "\n",
        "\treturn model"
      ],
      "metadata": {
        "id": "0YVgmPybsCro"
      },
      "execution_count": 56,
      "outputs": []
    },
    {
      "cell_type": "code",
      "source": [
        "#!pip install scikit-plot\n",
        "from sklearn.metrics import classification_report\n",
        "import matplotlib.pyplot as plt\n",
        "import numpy as np\n",
        "# import scikitplot as skplt\n",
        "from sklearn.metrics import accuracy_score\n",
        "import numpy as np\n",
        "from sklearn import metrics\n",
        "import tensorflow\n",
        "\n",
        "# cnn_model = tensorflow.keras.models.load_model('best_model.h5')\n",
        "# x_test = test_generator\n",
        "# x_train = train_generator\n",
        "# y_test = test_generator.classes\n",
        "def plot_results(h):\n",
        "  # plot the training loss and accuracy\n",
        "  N = len(h.epoch)\n",
        "  plt.style.use(\"ggplot\")\n",
        "  plt.figure()\n",
        "  plt.plot(np.arange(0, N), h.history[\"loss\"], label=\"train_loss\")\n",
        "  # plt.plot(np.arange(0, N), h.history[\"val_loss\"], label=\"val_loss\")\n",
        "  # plt.title(\"Training Loss vs. validation Loss\")\n",
        "  # plt.xlabel(\"Epoch #\")\n",
        "  # plt.ylabel(\"Loss\")\n",
        "  # plt.legend(loc=\"lower left\")\n",
        "  # plt.show()\n",
        "\n",
        "  # plt.figure()\n",
        "  plt.plot(np.arange(0, N), h.history[\"accuracy\"], label=\"train_acc\")\n",
        "  # plt.plot(np.arange(0, N), h.history[\"val_accuracy\"], label=\"val_acc\")\n",
        "  # plt.title(\"Training Accuracy vs. Validation Accuracy\")\n",
        "  # plt.xlabel(\"Epoch #\")\n",
        "  # plt.ylabel(\"Loss/Accuracy\")\n",
        "  plt.legend(loc=\"lower left\")\n",
        "  plt.show()\n",
        "\n",
        "def evaluate_kth_fold(x_train, x_test, y_train, y_test):\n",
        "  print(\"[INFO] evaluating network...\")\n",
        "  predIdxs = cnn_model.predict(x_test, batch_size=BS)\n",
        "  predIdxs = np.argmax(predIdxs, axis=1)\n",
        "\n",
        "  trainpredIdxs = cnn_model.predict(x_train, batch_size=BS)\n",
        "  trainpredIdxs = np.argmax(trainpredIdxs, axis=1)\n",
        "\n",
        "  trainCNNScore=accuracy_score(trainpredIdxs,y_train.argmax(axis=1))*100\n",
        "  CNNScore=accuracy_score(predIdxs,y_test.argmax(axis=1))*100\n",
        "\n",
        "  return trainCNNScore, CNNScore"
      ],
      "metadata": {
        "id": "8t8sidYQj_GD"
      },
      "execution_count": 57,
      "outputs": []
    },
    {
      "cell_type": "code",
      "source": [
        "plot_results(h)"
      ],
      "metadata": {
        "id": "8vPs-trEGE-c",
        "outputId": "5b739d6e-88e6-44df-fece-c0807720d074",
        "colab": {
          "base_uri": "https://localhost:8080/",
          "height": 430
        }
      },
      "execution_count": null,
      "outputs": [
        {
          "output_type": "display_data",
          "data": {
            "text/plain": [
              "<Figure size 640x480 with 1 Axes>"
            ],
            "image/png": "[encoded data removed]"
          },
          "metadata": {}
        }
      ]
    },
    {
      "cell_type": "code",
      "source": [
        "# Specify the path where you want to save the best model\n",
        "checkpoint_path = 'best_model.h5'\n",
        "from keras.callbacks import EarlyStopping\n",
        "\n",
        "# Create the ModelCheckpoint callback\n",
        "model_checkpoint = ModelCheckpoint(\n",
        "    filepath=checkpoint_path,\n",
        "    patience = 2,\n",
        "    monitor='accuracy',       # Metric to monitor (could also be 'val_accuracy', etc.)\n",
        "    save_best_only=True,      # Saves only the best model based on the monitored metric\n",
        "    # save_weights_only=False,  # Set to True to save only the model's weights, not the whole model\n",
        "    verbose=1                 # Verbosity level: 0 - silent, 1 - progress bar, 2 - one line per epoch.\n",
        ")\n",
        "# checkpoint_callback = ModelCheckpoint('best_model.h5', monitor='val_accuracy', save_best_only=True, mode='max')\n",
        "early_stopping_callback = EarlyStopping(monitor='accuracy', patience=10, mode='max', restore_best_weights=True)\n",
        "my_callbacks = [model_checkpoint, early_stopping_callback]"
      ],
      "metadata": {
        "id": "xAGgR5THejdM"
      },
      "execution_count": 58,
      "outputs": []
    },
    {
      "cell_type": "code",
      "source": [
        "INIT_LR = 0.001\n",
        "opt = Adam(learning_rate=INIT_LR)\n",
        "epochs = 100\n",
        "BS=64\n",
        "\n",
        "cnn_model = MiniVGGNet(width, height, depth, classes)\n",
        "# cnn_model = MiniVGGNet(cnn_model)\n",
        "cnn_model.compile(optimizer=opt, loss='categorical_crossentropy', metrics=['accuracy'])#, run_eagerly=True)\n",
        "cnn_model.summary()"
      ],
      "metadata": {
        "id": "O223e4HHKn-6",
        "outputId": "7c7de782-3117-44ed-8b36-5d9438170b7b",
        "colab": {
          "base_uri": "https://localhost:8080/"
        }
      },
      "execution_count": 59,
      "outputs": [
        {
          "output_type": "stream",
          "name": "stdout",
          "text": [
            "Model: \"sequential_6\"\n",
            "_________________________________________________________________\n",
            " Layer (type)                Output Shape              Param #   \n",
            "=================================================================\n",
            " conv2d_36 (Conv2D)          (None, 256, 256, 8)       224       \n",
            "                                                                 \n",
            " max_pooling2d_36 (MaxPoolin  (None, 128, 128, 8)      0         \n",
            " g2D)                                                            \n",
            "                                                                 \n",
            " conv2d_37 (Conv2D)          (None, 128, 128, 16)      1168      \n",
            "                                                                 \n",
            " max_pooling2d_37 (MaxPoolin  (None, 64, 64, 16)       0         \n",
            " g2D)                                                            \n",
            "                                                                 \n",
            " dropout_20 (Dropout)        (None, 64, 64, 16)        0         \n",
            "                                                                 \n",
            " conv2d_38 (Conv2D)          (None, 64, 64, 32)        4640      \n",
            "                                                                 \n",
            " max_pooling2d_38 (MaxPoolin  (None, 32, 32, 32)       0         \n",
            " g2D)                                                            \n",
            "                                                                 \n",
            " conv2d_39 (Conv2D)          (None, 32, 32, 64)        18496     \n",
            "                                                                 \n",
            " max_pooling2d_39 (MaxPoolin  (None, 16, 16, 64)       0         \n",
            " g2D)                                                            \n",
            "                                                                 \n",
            " dropout_21 (Dropout)        (None, 16, 16, 64)        0         \n",
            "                                                                 \n",
            " batch_normalization_2 (Batc  (None, 16, 16, 64)       256       \n",
            " hNormalization)                                                 \n",
            "                                                                 \n",
            " flatten_6 (Flatten)         (None, 16384)             0         \n",
            "                                                                 \n",
            " dense_21 (Dense)            (None, 4096)              67112960  \n",
            "                                                                 \n",
            " dense_22 (Dense)            (None, 1024)              4195328   \n",
            "                                                                 \n",
            " dropout_22 (Dropout)        (None, 1024)              0         \n",
            "                                                                 \n",
            " dense_23 (Dense)            (None, 4)                 4100      \n",
            "                                                                 \n",
            "=================================================================\n",
            "Total params: 71,337,172\n",
            "Trainable params: 71,337,044\n",
            "Non-trainable params: 128\n",
            "_________________________________________________________________\n"
          ]
        }
      ]
    },
    {
      "cell_type": "code",
      "source": [
        "# Training\n",
        "h = cnn_model.fit(x_train, y_train, epochs=epochs, batch_size=BS, callbacks=my_callbacks)\n",
        "print(\"Done !!\")"
      ],
      "metadata": {
        "id": "-59GZlDuAwhX",
        "outputId": "b14b1c4a-34f5-49fa-dace-848d40414593",
        "colab": {
          "base_uri": "https://localhost:8080/"
        }
      },
      "execution_count": 60,
      "outputs": [
        {
          "output_type": "stream",
          "name": "stdout",
          "text": [
            "Epoch 1/100\n",
            "15/15 [==============================] - ETA: 0s - loss: 29.0995 - accuracy: 0.2969\n",
            "Epoch 1: accuracy improved from -inf to 0.29688, saving model to best_model.h5\n",
            "15/15 [==============================] - 9s 464ms/step - loss: 29.0995 - accuracy: 0.2969\n",
            "Epoch 2/100\n",
            "15/15 [==============================] - ETA: 0s - loss: 2.2956 - accuracy: 0.3792\n",
            "Epoch 2: accuracy improved from 0.29688 to 0.37917, saving model to best_model.h5\n",
            "15/15 [==============================] - 10s 674ms/step - loss: 2.2956 - accuracy: 0.3792\n",
            "Epoch 3/100\n",
            "15/15 [==============================] - ETA: 0s - loss: 1.3593 - accuracy: 0.4281\n",
            "Epoch 3: accuracy improved from 0.37917 to 0.42812, saving model to best_model.h5\n",
            "15/15 [==============================] - 10s 701ms/step - loss: 1.3593 - accuracy: 0.4281\n",
            "Epoch 4/100\n",
            "15/15 [==============================] - ETA: 0s - loss: 1.3456 - accuracy: 0.4260\n",
            "Epoch 4: accuracy did not improve from 0.42812\n",
            "15/15 [==============================] - 1s 85ms/step - loss: 1.3456 - accuracy: 0.4260\n",
            "Epoch 5/100\n",
            "15/15 [==============================] - ETA: 0s - loss: 1.3191 - accuracy: 0.4469\n",
            "Epoch 5: accuracy improved from 0.42812 to 0.44688, saving model to best_model.h5\n",
            "15/15 [==============================] - 9s 612ms/step - loss: 1.3191 - accuracy: 0.4469\n",
            "Epoch 6/100\n",
            "15/15 [==============================] - ETA: 0s - loss: 1.3117 - accuracy: 0.4542\n",
            "Epoch 6: accuracy improved from 0.44688 to 0.45417, saving model to best_model.h5\n",
            "15/15 [==============================] - 10s 729ms/step - loss: 1.3117 - accuracy: 0.4542\n",
            "Epoch 7/100\n",
            "15/15 [==============================] - ETA: 0s - loss: 1.2957 - accuracy: 0.4563\n",
            "Epoch 7: accuracy improved from 0.45417 to 0.45625, saving model to best_model.h5\n",
            "15/15 [==============================] - 14s 996ms/step - loss: 1.2957 - accuracy: 0.4563\n",
            "Epoch 8/100\n",
            "15/15 [==============================] - ETA: 0s - loss: 1.3029 - accuracy: 0.4542\n",
            "Epoch 8: accuracy did not improve from 0.45625\n",
            "15/15 [==============================] - 1s 83ms/step - loss: 1.3029 - accuracy: 0.4542\n",
            "Epoch 9/100\n",
            "15/15 [==============================] - ETA: 0s - loss: 1.2898 - accuracy: 0.4531\n",
            "Epoch 9: accuracy did not improve from 0.45625\n",
            "15/15 [==============================] - 1s 81ms/step - loss: 1.2898 - accuracy: 0.4531\n",
            "Epoch 10/100\n",
            "15/15 [==============================] - ETA: 0s - loss: 1.2873 - accuracy: 0.4552\n",
            "Epoch 10: accuracy did not improve from 0.45625\n",
            "15/15 [==============================] - 1s 81ms/step - loss: 1.2873 - accuracy: 0.4552\n",
            "Epoch 11/100\n",
            "15/15 [==============================] - ETA: 0s - loss: 1.2879 - accuracy: 0.4531\n",
            "Epoch 11: accuracy did not improve from 0.45625\n",
            "15/15 [==============================] - 1s 82ms/step - loss: 1.2879 - accuracy: 0.4531\n",
            "Epoch 12/100\n",
            "15/15 [==============================] - ETA: 0s - loss: 1.2642 - accuracy: 0.4500\n",
            "Epoch 12: accuracy did not improve from 0.45625\n",
            "15/15 [==============================] - 1s 84ms/step - loss: 1.2642 - accuracy: 0.4500\n",
            "Epoch 13/100\n",
            "15/15 [==============================] - ETA: 0s - loss: 1.2837 - accuracy: 0.4531\n",
            "Epoch 13: accuracy did not improve from 0.45625\n",
            "15/15 [==============================] - 1s 97ms/step - loss: 1.2837 - accuracy: 0.4531\n",
            "Epoch 14/100\n",
            "15/15 [==============================] - ETA: 0s - loss: 1.2807 - accuracy: 0.4563\n",
            "Epoch 14: accuracy did not improve from 0.45625\n",
            "15/15 [==============================] - 1s 94ms/step - loss: 1.2807 - accuracy: 0.4563\n",
            "Epoch 15/100\n",
            "15/15 [==============================] - ETA: 0s - loss: 1.2820 - accuracy: 0.4542\n",
            "Epoch 15: accuracy did not improve from 0.45625\n",
            "15/15 [==============================] - 1s 89ms/step - loss: 1.2820 - accuracy: 0.4542\n",
            "Epoch 16/100\n",
            "15/15 [==============================] - ETA: 0s - loss: 1.2856 - accuracy: 0.4510\n",
            "Epoch 16: accuracy did not improve from 0.45625\n",
            "15/15 [==============================] - 1s 82ms/step - loss: 1.2856 - accuracy: 0.4510\n",
            "Epoch 17/100\n",
            "15/15 [==============================] - ETA: 0s - loss: 1.2753 - accuracy: 0.4552\n",
            "Epoch 17: accuracy did not improve from 0.45625\n",
            "15/15 [==============================] - 1s 99ms/step - loss: 1.2753 - accuracy: 0.4552\n",
            "Done !!\n"
          ]
        }
      ]
    },
    {
      "cell_type": "code",
      "source": [
        "path"
      ],
      "metadata": {
        "id": "5M6mLtu5CZoG"
      },
      "execution_count": null,
      "outputs": []
    },
    {
      "cell_type": "code",
      "source": [
        "import tensorflow as tf\n",
        "\n",
        "from keras.applications.vgg16 import preprocess_input\n",
        "from tensorflow.keras.preprocessing.image import load_img\n",
        "from tensorflow.keras.preprocessing.image import img_to_array\n",
        "from keras.models import Model\n",
        "from matplotlib import pyplot\n",
        "from numpy import expand_dims\n",
        "# load the model\n",
        "# model = VGG16()\n",
        "# filename='/content/drive/MyDrive/ML-Datasets/Messidore/Messidor_dataset_without_clahe/normal/20051205_60119_0400_PP.tif.png'\n",
        "def feature_map_visuals(model, filename, idxLayer):\n",
        "    target_size=(256,256)\n",
        "    print(model)\n",
        "    # redefine model to output right after the first hidden layer\n",
        "    model = Model(inputs=model.inputs, outputs=model.layers[idxLayer].output)\n",
        "    # model.summary()\n",
        "    # load the image with the required shape\n",
        "    img = load_img(filename, target_size=target_size)\n",
        "    # convert the image to an array\n",
        "    img = img_to_array(img)\n",
        "    # expand dimensions so that it represents a single 'sample'\n",
        "    img = expand_dims(img, axis=0)\n",
        "    # prepare the image (e.g. scale pixel values for the vgg)\n",
        "    # img = preprocess_input(img)\n",
        "    # get feature map for first hidden layer\n",
        "    feature_maps = model.predict(img)\n",
        "    # plot all 64 maps in an 8x8 squares\n",
        "    square = 4\n",
        "    ix = 1\n",
        "    for _ in range(square):\n",
        "        for _ in range(square):\n",
        "            # specify subplot and turn of axis\n",
        "            ax = pyplot.subplot(square, square, ix)\n",
        "            ax.set_xticks([])\n",
        "            ax.set_yticks([])\n",
        "            # plot filter channel in grayscale\n",
        "            pyplot.imshow(feature_maps[0, :, :, ix-1], cmap='gray')\n",
        "            ix += 1\n",
        "        # show the figure\n",
        "        pyplot.show()\n"
      ],
      "metadata": {
        "id": "Ch_92t01EMQd"
      },
      "execution_count": 48,
      "outputs": []
    },
    {
      "cell_type": "code",
      "source": [
        "print(path[20])\n",
        "filename = path[20]\n",
        "feature_map_visuals(cnn_model, filename, 6)"
      ],
      "metadata": {
        "id": "iAcoSLJwCI6l",
        "outputId": "1dbc519b-fcab-4237-def9-66c88e54e490",
        "colab": {
          "base_uri": "https://localhost:8080/",
          "height": 469
        }
      },
      "execution_count": 65,
      "outputs": [
        {
          "output_type": "stream",
          "name": "stdout",
          "text": [
            "/content/drive/MyDrive/ML-Datasets/Messidore/Messidor_dataset_without_clahe/severe/20051020_53178_0100_PP.tif.png\n",
            "<keras.engine.sequential.Sequential object at 0x7ebb5e9412a0>\n",
            "1/1 [==============================] - 0s 209ms/step\n"
          ]
        },
        {
          "output_type": "display_data",
          "data": {
            "text/plain": [
              "<Figure size 640x480 with 4 Axes>"
            ],
            "image/png": "[encoded data removed]"
          },
          "metadata": {}
        },
        {
          "output_type": "display_data",
          "data": {
            "text/plain": [
              "<Figure size 640x480 with 4 Axes>"
            ],
            "image/png": "[encoded data removed]"
          },
          "metadata": {}
        },
        {
          "output_type": "display_data",
          "data": {
            "text/plain": [
              "<Figure size 640x480 with 4 Axes>"
            ],
            "image/png": "[encoded data removed]"
          },
          "metadata": {}
        },
        {
          "output_type": "display_data",
          "data": {
            "text/plain": [
              "<Figure size 640x480 with 4 Axes>"
            ],
            "image/png": "[encoded data removed]"
          },
          "metadata": {}
        }
      ]
    },
    {
      "cell_type": "code",
      "source": [
        "trainCNNScore, CNNScore = evaluate_kth_fold(x_train, x_test, y_train, y_test)\n",
        "\n",
        "print(\"\\nTrainig Accuracy Score:-\",trainCNNScore)\n",
        "print(\"\\nTesting Accuracy Score:-\",CNNScore)\n",
        "print(\"\\nTraning Graph:- \\n \")\n",
        "\n",
        "plot_results(h)"
      ],
      "metadata": {
        "id": "0rFbG5vwTUeM",
        "outputId": "5b1e16fb-884f-40bc-ce94-abf9d288e63f",
        "colab": {
          "base_uri": "https://localhost:8080/",
          "height": 604
        }
      },
      "execution_count": 68,
      "outputs": [
        {
          "output_type": "stream",
          "name": "stdout",
          "text": [
            "[INFO] evaluating network...\n",
            "4/4 [==============================] - 2s 360ms/step\n",
            "15/15 [==============================] - 1s 54ms/step\n",
            "\n",
            "Trainig Accuracy Score:- 45.520833333333336\n",
            "\n",
            "Testing Accuracy Score:- 45.416666666666664\n",
            "\n",
            "Traning Graph:- \n",
            " \n"
          ]
        },
        {
          "output_type": "display_data",
          "data": {
            "text/plain": [
              "<Figure size 640x480 with 1 Axes>"
            ],
            "image/png": "[encoded data removed]"
          },
          "metadata": {}
        }
      ]
    },
    {
      "cell_type": "code",
      "source": [
        "width,height=256,256\n",
        "depth = 3\n",
        "input_shape = (height, width, depth)\n",
        "\n",
        "classes = 4\n",
        "depth = 3\n",
        "INIT_LR = 1e-3\n",
        "EPOCHS = 100\n",
        "BS=32\n",
        "\n",
        "from keras.optimizers import Nadam, SGD, Adam\n",
        "from sklearn.model_selection import StratifiedKFold\n",
        "\n",
        "h = []\n",
        "Kfold = StratifiedKFold(n_splits=8)\n",
        "for train, test in Kfold.split(x_train, y_train.argmax(axis=1)):\n",
        "  cnn_model = Sequential()\n",
        "  # opt = Nadam(learning_rate=INIT_LR)\n",
        "  # opt = adam_v1(learning_rate=INIT_LR)\n",
        "  opt = Adam(learning_rate=INIT_LR)\n",
        "\n",
        "  # cnn_model = MiniVGGNet(width, height, depth, classes)\n",
        "  cnn_model = MiniVGGNetv01(cnn_model)\n",
        "  cnn_model.compile(optimizer=opt, loss='categorical_crossentropy', metrics=['accuracy'])#, run_eagerly=True)\n",
        "  # cnn_model.summary()\n",
        "  h = cnn_model.fit(x_train[train], y_train[train], epochs=EPOCHS, batch_size=BS, callbacks=my_callbacks)\n",
        "  print(\"Done !!\")\n",
        "\n",
        "  trainCNNScore, CNNScore = evaluate_kth_fold(x_train[train], x_test, y_train[train], y_test)\n",
        "\n",
        "  print(\"\\nTrainig Accuracy Score:-\",trainCNNScore)\n",
        "  print(\"\\nTesting Accuracy Score:-\",CNNScore)\n",
        "  print(\"\\nTraning Graph:- \\n \")\n",
        "\n",
        "plot_results(h)\n",
        "\n",
        "  # cnn_model = MiniVGGNetv01(model)\n",
        "# opt = gradient_descent_legacy.SGD (learning_rate = INIT_LR)\n",
        "# cnn_model.compile(optimizer=opt, loss='categorical_crossentropy', metrics=['accuracy'], run_eagerly=True)\n",
        "# cnn_model.summary()"
      ],
      "metadata": {
        "id": "5y1WoLKLtt3p",
        "outputId": "eb772d3e-0de6-4524-abf4-794833326695",
        "colab": {
          "base_uri": "https://localhost:8080/"
        }
      },
      "execution_count": null,
      "outputs": [
        {
          "output_type": "stream",
          "name": "stdout",
          "text": [
            "Epoch 1/100\n",
            "27/27 [==============================] - ETA: 0s - loss: 2706.5725 - accuracy: 0.3456\n",
            "Epoch 1: accuracy improved from -inf to 0.34556, saving model to best_model.h5\n"
          ]
        }
      ]
    },
    {
      "cell_type": "code",
      "source": [
        "plot_results(h)"
      ],
      "metadata": {
        "id": "may3gJrzFeOk",
        "outputId": "598add12-7b53-4e92-f69b-0a92dcaf9846",
        "colab": {
          "base_uri": "https://localhost:8080/",
          "height": 710
        }
      },
      "execution_count": null,
      "outputs": [
        {
          "output_type": "error",
          "ename": "KeyError",
          "evalue": "ignored",
          "traceback": [
            "\u001b[0;31m---------------------------------------------------------------------------\u001b[0m",
            "\u001b[0;31mKeyError\u001b[0m                                  Traceback (most recent call last)",
            "\u001b[0;32m<ipython-input-32-98d22618098a>\u001b[0m in \u001b[0;36m<cell line: 1>\u001b[0;34m()\u001b[0m\n\u001b[0;32m----> 1\u001b[0;31m \u001b[0mplot_results\u001b[0m\u001b[0;34m(\u001b[0m\u001b[0mh\u001b[0m\u001b[0;34m)\u001b[0m\u001b[0;34m\u001b[0m\u001b[0;34m\u001b[0m\u001b[0m\n\u001b[0m",
            "\u001b[0;32m<ipython-input-29-8363694c2783>\u001b[0m in \u001b[0;36mplot_results\u001b[0;34m(h)\u001b[0m\n\u001b[1;32m     19\u001b[0m   \u001b[0mplt\u001b[0m\u001b[0;34m.\u001b[0m\u001b[0mfigure\u001b[0m\u001b[0;34m(\u001b[0m\u001b[0;34m)\u001b[0m\u001b[0;34m\u001b[0m\u001b[0;34m\u001b[0m\u001b[0m\n\u001b[1;32m     20\u001b[0m   \u001b[0mplt\u001b[0m\u001b[0;34m.\u001b[0m\u001b[0mplot\u001b[0m\u001b[0;34m(\u001b[0m\u001b[0mnp\u001b[0m\u001b[0;34m.\u001b[0m\u001b[0marange\u001b[0m\u001b[0;34m(\u001b[0m\u001b[0;36m0\u001b[0m\u001b[0;34m,\u001b[0m \u001b[0mN\u001b[0m\u001b[0;34m)\u001b[0m\u001b[0;34m,\u001b[0m \u001b[0mh\u001b[0m\u001b[0;34m.\u001b[0m\u001b[0mhistory\u001b[0m\u001b[0;34m[\u001b[0m\u001b[0;34m\"loss\"\u001b[0m\u001b[0;34m]\u001b[0m\u001b[0;34m,\u001b[0m \u001b[0mlabel\u001b[0m\u001b[0;34m=\u001b[0m\u001b[0;34m\"train_loss\"\u001b[0m\u001b[0;34m)\u001b[0m\u001b[0;34m\u001b[0m\u001b[0;34m\u001b[0m\u001b[0m\n\u001b[0;32m---> 21\u001b[0;31m   \u001b[0mplt\u001b[0m\u001b[0;34m.\u001b[0m\u001b[0mplot\u001b[0m\u001b[0;34m(\u001b[0m\u001b[0mnp\u001b[0m\u001b[0;34m.\u001b[0m\u001b[0marange\u001b[0m\u001b[0;34m(\u001b[0m\u001b[0;36m0\u001b[0m\u001b[0;34m,\u001b[0m \u001b[0mN\u001b[0m\u001b[0;34m)\u001b[0m\u001b[0;34m,\u001b[0m \u001b[0mh\u001b[0m\u001b[0;34m.\u001b[0m\u001b[0mhistory\u001b[0m\u001b[0;34m[\u001b[0m\u001b[0;34m\"val_loss\"\u001b[0m\u001b[0;34m]\u001b[0m\u001b[0;34m,\u001b[0m \u001b[0mlabel\u001b[0m\u001b[0;34m=\u001b[0m\u001b[0;34m\"val_loss\"\u001b[0m\u001b[0;34m)\u001b[0m\u001b[0;34m\u001b[0m\u001b[0;34m\u001b[0m\u001b[0m\n\u001b[0m\u001b[1;32m     22\u001b[0m   \u001b[0mplt\u001b[0m\u001b[0;34m.\u001b[0m\u001b[0mtitle\u001b[0m\u001b[0;34m(\u001b[0m\u001b[0;34m\"Training Loss vs. validation Loss\"\u001b[0m\u001b[0;34m)\u001b[0m\u001b[0;34m\u001b[0m\u001b[0;34m\u001b[0m\u001b[0m\n\u001b[1;32m     23\u001b[0m   \u001b[0mplt\u001b[0m\u001b[0;34m.\u001b[0m\u001b[0mxlabel\u001b[0m\u001b[0;34m(\u001b[0m\u001b[0;34m\"Epoch #\"\u001b[0m\u001b[0;34m)\u001b[0m\u001b[0;34m\u001b[0m\u001b[0;34m\u001b[0m\u001b[0m\n",
            "\u001b[0;31mKeyError\u001b[0m: 'val_loss'"
          ]
        },
        {
          "output_type": "display_data",
          "data": {
            "text/plain": [
              "<Figure size 640x480 with 1 Axes>"
            ],
            "image/png": "[encoded data removed]"
          },
          "metadata": {}
        }
      ]
    },
    {
      "cell_type": "code",
      "execution_count": 66,
      "metadata": {
        "colab": {
          "base_uri": "https://localhost:8080/"
        },
        "id": "odrWjuB-hKRF",
        "outputId": "16387e0e-6274-46ed-e4a3-3e06f7734591"
      },
      "outputs": [
        {
          "output_type": "stream",
          "name": "stdout",
          "text": [
            "Collecting scikit-plot\n",
            "  Downloading scikit_plot-0.3.7-py3-none-any.whl (33 kB)\n",
            "Requirement already satisfied: matplotlib>=1.4.0 in /usr/local/lib/python3.10/dist-packages (from scikit-plot) (3.7.1)\n",
            "Requirement already satisfied: scikit-learn>=0.18 in /usr/local/lib/python3.10/dist-packages (from scikit-plot) (1.2.2)\n",
            "Requirement already satisfied: scipy>=0.9 in /usr/local/lib/python3.10/dist-packages (from scikit-plot) (1.10.1)\n",
            "Requirement already satisfied: joblib>=0.10 in /usr/local/lib/python3.10/dist-packages (from scikit-plot) (1.3.2)\n",
            "Requirement already satisfied: contourpy>=1.0.1 in /usr/local/lib/python3.10/dist-packages (from matplotlib>=1.4.0->scikit-plot) (1.1.0)\n",
            "Requirement already satisfied: cycler>=0.10 in /usr/local/lib/python3.10/dist-packages (from matplotlib>=1.4.0->scikit-plot) (0.11.0)\n",
            "Requirement already satisfied: fonttools>=4.22.0 in /usr/local/lib/python3.10/dist-packages (from matplotlib>=1.4.0->scikit-plot) (4.42.1)\n",
            "Requirement already satisfied: kiwisolver>=1.0.1 in /usr/local/lib/python3.10/dist-packages (from matplotlib>=1.4.0->scikit-plot) (1.4.4)\n",
            "Requirement already satisfied: numpy>=1.20 in /usr/local/lib/python3.10/dist-packages (from matplotlib>=1.4.0->scikit-plot) (1.23.5)\n",
            "Requirement already satisfied: packaging>=20.0 in /usr/local/lib/python3.10/dist-packages (from matplotlib>=1.4.0->scikit-plot) (23.1)\n",
            "Requirement already satisfied: pillow>=6.2.0 in /usr/local/lib/python3.10/dist-packages (from matplotlib>=1.4.0->scikit-plot) (9.4.0)\n",
            "Requirement already satisfied: pyparsing>=2.3.1 in /usr/local/lib/python3.10/dist-packages (from matplotlib>=1.4.0->scikit-plot) (3.1.1)\n",
            "Requirement already satisfied: python-dateutil>=2.7 in /usr/local/lib/python3.10/dist-packages (from matplotlib>=1.4.0->scikit-plot) (2.8.2)\n",
            "Requirement already satisfied: threadpoolctl>=2.0.0 in /usr/local/lib/python3.10/dist-packages (from scikit-learn>=0.18->scikit-plot) (3.2.0)\n",
            "Requirement already satisfied: six>=1.5 in /usr/local/lib/python3.10/dist-packages (from python-dateutil>=2.7->matplotlib>=1.4.0->scikit-plot) (1.16.0)\n",
            "Installing collected packages: scikit-plot\n",
            "Successfully installed scikit-plot-0.3.7\n"
          ]
        }
      ],
      "source": [
        "!pip install scikit-plot"
      ]
    },
    {
      "cell_type": "code",
      "source": [
        "def plot_confusion_matrix(cm, classes,\n",
        "                          normalize=False,\n",
        "                          title='Confusion matrix',\n",
        "                          cmap=plt.cm.Blues):\n",
        "    \"\"\"\n",
        "    This function prints and plots the confusion matrix.\n",
        "    Normalization can be applied by setting `normalize=True`.\n",
        "    \"\"\"\n",
        "    plt.figure(figsize = (6,6))\n",
        "    plt.imshow(cm, interpolation='nearest', cmap=cmap)\n",
        "    plt.title(title)\n",
        "    plt.colorbar()\n",
        "    tick_marks = np.arange(len(classes))\n",
        "    plt.xticks(tick_marks, classes, rotation=90)\n",
        "    plt.yticks(tick_marks, classes)\n",
        "    if normalize:\n",
        "        cm = cm.astype('float') / cm.sum(axis=1)[:, np.newaxis]\n",
        "\n",
        "    thresh = cm.max() / 2.\n",
        "    cm = np.round(cm,2)\n",
        "    for i, j in itertools.product(range(cm.shape[0]), range(cm.shape[1])):\n",
        "        plt.text(j, i, cm[i, j],\n",
        "                 horizontalalignment=\"center\",\n",
        "                 color=\"white\" if cm[i, j] > thresh else \"black\")\n",
        "    plt.tight_layout()\n",
        "    plt.ylabel('True label')\n",
        "    plt.xlabel('Predicted label')\n",
        "    plt.show()"
      ],
      "metadata": {
        "id": "1Nky3aNEqELw"
      },
      "execution_count": null,
      "outputs": []
    },
    {
      "cell_type": "code",
      "execution_count": null,
      "metadata": {
        "colab": {
          "base_uri": "https://localhost:8080/"
        },
        "id": "4YDvUMUphWyY",
        "outputId": "bf818a0a-bd72-497c-cb8f-50d0d1f863d7"
      },
      "outputs": [
        {
          "output_type": "stream",
          "name": "stdout",
          "text": [
            "30/30 [==============================] - 1s 24ms/step\n"
          ]
        }
      ],
      "source": [
        "extractCNN = Model(cnn_model.inputs, cnn_model.layers[2].output)\n",
        "\n",
        "#del(data)\n",
        "#del(labels)\n",
        "feat_trainCNN  = extractCNN.predict(x_train)\n",
        "feat_testCNN = extractCNN.predict(x_test)\n",
        "\n",
        "print(feat_trainCNN.shape)"
      ]
    },
    {
      "cell_type": "code",
      "execution_count": null,
      "metadata": {
        "colab": {
          "base_uri": "https://localhost:8080/"
        },
        "id": "hwNaYsLKhjPJ",
        "outputId": "d0ef4e35-e282-4ecb-d253-bfc44fac316c"
      },
      "outputs": [
        {
          "output_type": "stream",
          "name": "stdout",
          "text": [
            "SVM Training Accuracy Score:- 100.0\n",
            "\n",
            "SVM Testing Accuracy Score:- 98.18181818181819\n"
          ]
        }
      ],
      "source": [
        "from sklearn.svm import SVC\n",
        "\n",
        "svm = SVC(kernel='linear')\n",
        "svm.fit(feat_trainCNN,np.argmax(y_train,axis=1))\n",
        "\n",
        "TrainSVMScoreCNN=svm.score(feat_trainCNN,np.argmax(y_train,axis=1))*100\n",
        "print(\"SVM Training Accuracy Score:-\",TrainSVMScoreCNN)\n",
        "\n",
        "TestSVMScoreCNN=svm.score(feat_testCNN,np.argmax(y_test,axis=1))*100\n",
        "print(\"\\nSVM Testing Accuracy Score:-\",TestSVMScoreCNN)"
      ]
    },
    {
      "cell_type": "code",
      "execution_count": null,
      "metadata": {
        "colab": {
          "base_uri": "https://localhost:8080/"
        },
        "id": "2MIzKIZfhqqC",
        "outputId": "6cb44862-4e36-4118-c0be-010752f49387"
      },
      "outputs": [
        {
          "output_type": "stream",
          "name": "stdout",
          "text": [
            "Decision Tree Training Accuracy Score:- 100.0\n",
            "\n",
            "Decision Tree Testing Accuracy Score:- 89.54545454545455\n"
          ]
        }
      ],
      "source": [
        "from sklearn.tree import DecisionTreeClassifier\n",
        "\n",
        "clf = DecisionTreeClassifier(random_state=0)\n",
        "clf = clf.fit(feat_trainCNN,np.argmax(y_train,axis=1))\n",
        "\n",
        "TrainDecisionScoreCNN=clf.score(feat_trainCNN,np.argmax(y_train,axis=1))*100\n",
        "print(\"Decision Tree Training Accuracy Score:-\",TrainDecisionScoreCNN)\n",
        "\n",
        "\n",
        "TestDecisionScoreCNN=clf.score(feat_testCNN,np.argmax(y_test,axis=1))*100\n",
        "print(\"\\nDecision Tree Testing Accuracy Score:-\",TestDecisionScoreCNN)"
      ]
    },
    {
      "cell_type": "code",
      "execution_count": null,
      "metadata": {
        "colab": {
          "base_uri": "https://localhost:8080/"
        },
        "id": "OBnKNWgChyWV",
        "outputId": "cf216d22-65c0-44fb-dbb6-9323abfd373b"
      },
      "outputs": [
        {
          "output_type": "stream",
          "name": "stdout",
          "text": [
            "KNN Training Accuracy Score:- 98.51767388825542\n",
            "\n",
            "KNN Testing Accuracy Score:- 97.27272727272728\n"
          ]
        }
      ],
      "source": [
        "from sklearn.neighbors import KNeighborsClassifier\n",
        "\n",
        "knn = KNeighborsClassifier(n_neighbors=5)\n",
        "knn.fit(feat_trainCNN,np.argmax(y_train,axis=1))\n",
        "\n",
        "TrainKNNScoreCNN=knn.score(feat_trainCNN,np.argmax(y_train,axis=1))*100\n",
        "print(\"KNN Training Accuracy Score:-\",TrainKNNScoreCNN)\n",
        "\n",
        "TestKNNScoreCNN=knn.score(feat_testCNN,np.argmax(y_test,axis=1))*100\n",
        "print(\"\\nKNN Testing Accuracy Score:-\",TestKNNScoreCNN)"
      ]
    },
    {
      "cell_type": "code",
      "execution_count": null,
      "metadata": {
        "colab": {
          "base_uri": "https://localhost:8080/"
        },
        "id": "Gux9LyNoh5f7",
        "outputId": "89748321-fc1e-4325-f378-6bbedc1391db"
      },
      "outputs": [
        {
          "output_type": "stream",
          "name": "stdout",
          "text": [
            "\n",
            "GaussianNaive Bayes Training Accuracy Score:- 82.09806157354618\n",
            "\n",
            "GaussianNaive Bayes Testing Accuracy Score:- 69.54545454545455\n"
          ]
        }
      ],
      "source": [
        "from sklearn.naive_bayes import GaussianNB\n",
        "\n",
        "gnb = GaussianNB()\n",
        "gnb.fit(feat_trainCNN,np.argmax(y_train,axis=1))\n",
        "\n",
        "TrainNBScoreCNN=gnb.score(feat_trainCNN,np.argmax(y_train,axis=1))*100\n",
        "print(\"\\nGaussianNaive Bayes Training Accuracy Score:-\",TrainNBScoreCNN)\n",
        "\n",
        "TestNBScoreCNN=gnb.score(feat_testCNN,np.argmax(y_test,axis=1))*100\n",
        "print(\"\\nGaussianNaive Bayes Testing Accuracy Score:-\",TestNBScoreCNN)"
      ]
    }
  ],
  "metadata": {
    "colab": {
      "provenance": [],
      "gpuType": "T4",
      "include_colab_link": true
    },
    "kernelspec": {
      "display_name": "Python 3",
      "name": "python3"
    },
    "language_info": {
      "name": "python"
    },
    "accelerator": "GPU"
  },
  "nbformat": 4,
  "nbformat_minor": 0
}