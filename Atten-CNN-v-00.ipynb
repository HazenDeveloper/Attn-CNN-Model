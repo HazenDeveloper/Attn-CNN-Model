{
  "nbformat": 4,
  "nbformat_minor": 0,
  "metadata": {
    "colab": {
      "provenance": [],
      "authorship_tag": "ABX9TyPsCle++96+8b0WprTmZpH+",
      "include_colab_link": true
    },
    "kernelspec": {
      "name": "python3",
      "display_name": "Python 3"
    },
    "language_info": {
      "name": "python"
    }
  },
  "cells": [
    {
      "cell_type": "markdown",
      "metadata": {
        "id": "view-in-github",
        "colab_type": "text"
      },
      "source": [
        "<a href=\"https://colab.research.google.com/github/HazenDeveloper/Attn-CNN-Model/blob/main/Atten-CNN-v-00.ipynb\" target=\"_parent\"><img src=\"https://colab.research.google.com/assets/colab-badge.svg\" alt=\"Open In Colab\"/></a>"
      ]
    },
    {
      "cell_type": "code",
      "source": [
        "from google.colab import drive\n"
      ],
      "metadata": {
        "id": "EjMBOBo2gsAh"
      },
      "execution_count": null,
      "outputs": []
    },
    {
      "cell_type": "code",
      "execution_count": null,
      "metadata": {
        "id": "k8txuvVqgF9Y"
      },
      "outputs": [],
      "source": [
        "#attCNN.py\n",
        "import tensorflow\n",
        "\n",
        "from tensorflow.python.keras.layers import Input, Conv2D, Dense, Flatten, Activation, Dropout, MaxPool2D, Multiply, Add\n",
        "from tensorflow.python.keras.models import Model\n",
        "from keras.preprocessing.image import ImageDataGenerator\n"
      ]
    },
    {
      "cell_type": "code",
      "source": [
        "train_data_dir = './Dataset/train'\n",
        "test_data_dir = './Dataset/test'\n",
        "valid_data_dir = './Dataset/val'\n",
        "\n",
        "# Set the number of target classes\n",
        "num_classes = 3\n",
        "\n",
        "# Set the input image dimensions\n",
        "input_shape = (32, 32, 3)\n",
        "\n",
        "# Set the batch size and number of training steps per epoch\n",
        "batch_size = 64\n",
        "# train_steps_per_epoch = 100\n"
      ],
      "metadata": {
        "id": "C8caCUGcgXW9"
      },
      "execution_count": null,
      "outputs": []
    },
    {
      "cell_type": "code",
      "source": [
        "# Preprocess the training data with data augmentation\n",
        "train_datagen = ImageDataGenerator(rescale=1./255,\n",
        "                                   # rescale=1./255,      # Normalize pixel values to [0, 1]\n",
        "                                   rotation_range=15,   # Randomly rotate images by 10 degrees\n",
        "                                   # width_shift_range=0.1,   # Randomly shift images horizontally by 10% of the width\n",
        "                                   # height_shift_range=0.1,  # Randomly shift images vertically by 10% of the height\n",
        "                                   # shear_range=0.1,     # Apply shear transformation with a shear angle of 10 degrees\n",
        "                                   # zoom_range=0.1,      # Apply random zoom between 0.9x and 1.1x\n",
        "                                   # horizontal_flip=True,    # Randomly flip images horizontally\n",
        "                                   # vertical_flip=False      # Do not flip images vertically\n",
        "                                   )\n",
        "\n",
        "# Preprocess the validation and testing data (only rescale pixel values)\n",
        "valid_test_datagen = ImageDataGenerator(rescale=1./255)\n",
        "# Load and augment the training data\n",
        "train_generator = train_datagen.flow_from_directory(\n",
        "    train_data_dir,\n",
        "    target_size=input_shape[:2],\n",
        "    batch_size=batch_size,\n",
        "    class_mode='categorical'   # Use categorical mode for multi-class classification\n",
        ")\n",
        "\n",
        "# Load the validation data\n",
        "valid_generator = valid_test_datagen.flow_from_directory(\n",
        "    valid_data_dir,\n",
        "    target_size=input_shape[:2],\n",
        "    batch_size=batch_size,\n",
        "    class_mode='categorical'\n",
        ")\n",
        "\n",
        "# Load the testing data\n",
        "test_generator = valid_test_datagen.flow_from_directory(\n",
        "    test_data_dir,\n",
        "    target_size=input_shape[:2],\n",
        "    batch_size=batch_size,\n",
        "    class_mode='categorical'\n",
        ")\n"
      ],
      "metadata": {
        "id": "D5fpaBoWgciZ"
      },
      "execution_count": null,
      "outputs": []
    },
    {
      "cell_type": "code",
      "source": [
        "# Attention Mechanism\n",
        "def attention_block(input_tensor, input_channels):\n",
        "    q = Conv2D(input_channels, (1, 1), padding='same')(input_tensor)\n",
        "    k = Conv2D(input_channels, (1, 1), padding='same')(input_tensor)\n",
        "    v = Conv2D(input_channels, (1, 1), padding='same')(input_tensor)\n",
        "\n",
        "    qk = Multiply()([q, k])\n",
        "    qk = Activation('softmax')(qk)\n",
        "    attention = Multiply()([v, qk])\n",
        "\n",
        "    output_tensor = Add()([input_tensor, attention])\n",
        "    return output_tensor\n",
        "#%%\n",
        "# CNN Model with Attention\n",
        "def attention_cnn(input_shape, num_classes):\n",
        "    inputs = Input(shape=input_shape)\n",
        "\n",
        "    x = Conv2D(32, (3, 3), activation='relu', padding='same')(inputs)\n",
        "    #x = attention_block(x, 32)\n",
        "    x = MaxPool2D()(x)\n",
        "    x = Dropout(0.25)(x)\n",
        "\n",
        "    x = Conv2D(64, (3, 3), activation='relu', padding='same')(x)\n",
        "    #x = attention_block(x, 64)\n",
        "    x = MaxPool2D()(x)\n",
        "    x = Dropout(0.25)(x)\n",
        "\n",
        "    x = Flatten()(x)\n",
        "\n",
        "    outputs = Dense(num_classes, activation='softmax')(x)\n",
        "\n",
        "    model = Model(inputs=inputs, outputs=outputs)\n",
        "    return model\n"
      ],
      "metadata": {
        "id": "jhRSlV3wghtj"
      },
      "execution_count": null,
      "outputs": []
    },
    {
      "cell_type": "code",
      "source": [
        "num_classes = 3\n",
        "#%%\n",
        "model = attention_cnn(input_shape, num_classes)\n",
        "#%%\n",
        "model.compile(optimizer='adam', loss='categorical_crossentropy', metrics=['accuracy'])\n",
        "\n",
        "# Train the model\n",
        "model.fit(\n",
        "    train_generator,\n",
        "    epochs=10,\n",
        "    validation_data=valid_generator\n",
        ")\n",
        "\n",
        "# Evaluate the model on the testing data\n",
        "test_loss, test_accuracy = model.evaluate(test_generator)\n",
        "print(f'Test loss: {test_loss}')\n",
        "print(f'Test accuracy: {test_accuracy}')"
      ],
      "metadata": {
        "id": "GoWqZ89Tgl-J"
      },
      "execution_count": null,
      "outputs": []
    }
  ]
}