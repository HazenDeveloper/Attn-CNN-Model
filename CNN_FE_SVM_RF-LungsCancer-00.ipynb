{
  "cells": [
    {
      "cell_type": "markdown",
      "metadata": {
        "id": "view-in-github",
        "colab_type": "text"
      },
      "source": [
        "<a href=\"https://colab.research.google.com/github/HazenDeveloper/Attn-CNN-Model/blob/main/CNN_FE_SVM_RF-LungsCancer-00.ipynb\" target=\"_parent\"><img src=\"https://colab.research.google.com/assets/colab-badge.svg\" alt=\"Open In Colab\"/></a>"
      ]
    },
    {
      "cell_type": "code",
      "source": [
        "from google.colab import drive\n",
        "drive.mount('/content/drive')"
      ],
      "metadata": {
        "id": "IUzMl-LWi0Pl",
        "outputId": "cd556c5c-9baf-41be-d9be-895dad0d620b",
        "colab": {
          "base_uri": "https://localhost:8080/"
        }
      },
      "execution_count": 1,
      "outputs": [
        {
          "output_type": "stream",
          "name": "stdout",
          "text": [
            "Mounted at /content/drive\n"
          ]
        }
      ]
    },
    {
      "cell_type": "code",
      "execution_count": 2,
      "metadata": {
        "id": "bFbjIBEyceKU"
      },
      "outputs": [],
      "source": [
        "#!pip install imutils\n",
        "import keras\n",
        "import tensorflow as tf\n",
        "\n",
        "import os\n",
        "from keras.layers import Input\n",
        "from tensorflow.keras.preprocessing.image import ImageDataGenerator\n",
        "from keras.layers import Flatten, Dense, Conv2D, MaxPooling2D, Dropout\n",
        "from tensorflow.keras.layers import Dropout\n",
        "from tensorflow.keras.layers import Flatten\n",
        "from tensorflow.keras.layers import Dense\n",
        "from tensorflow.keras.layers import Layer\n",
        "from tensorflow.keras.layers import Input\n",
        "from keras.layers import BatchNormalization\n",
        "from tensorflow.keras import Sequential\n",
        "from tensorflow.keras.optimizers import Adam\n",
        "from tensorflow.keras.callbacks import ModelCheckpoint\n",
        "from tensorflow.keras.preprocessing.image import img_to_array\n",
        "from tensorflow.keras.preprocessing.image import load_img\n",
        "from tensorflow.keras.utils import to_categorical\n",
        "from sklearn.preprocessing import LabelBinarizer\n",
        "from sklearn.model_selection import train_test_split\n",
        "from sklearn.metrics import classification_report\n",
        "from imutils import paths\n",
        "import matplotlib.pyplot as plt\n",
        "from keras.models import Model\n",
        "from sklearn.utils import shuffle\n",
        "from cv2 import imread\n",
        "import numpy as np\n",
        "import pandas as pd\n"
      ]
    },
    {
      "cell_type": "code",
      "execution_count": null,
      "metadata": {
        "id": "d4fuzmF_0Yvr",
        "outputId": "36411b5b-90de-450d-8e49-31b2d025fea2",
        "colab": {
          "base_uri": "https://localhost:8080/"
        }
      },
      "outputs": [
        {
          "output_type": "stream",
          "name": "stdout",
          "text": [
            "/content/drive/MyDrive/ML-Datasets/Messidore\n"
          ]
        }
      ],
      "source": [
        "from os import listdir, walk\n",
        "from os.path import isfile, join\n",
        "import cv2\n",
        "from google.colab.patches import cv2_imshow\n",
        "\n",
        "\n",
        "path = os.path.join(os.path.curdir,'/content/drive/MyDrive/ML-Datasets/LungsCancer')\n",
        "print(path)\n",
        "\n",
        "# print('testing', imagePaths[1].split(os.path.sep)[-2])\n",
        "\n",
        "# img = cv2.imread(imagePaths[2])\n",
        "# cv2_imshow(img)\n",
        "\n"
      ]
    },
    {
      "cell_type": "code",
      "execution_count": 3,
      "metadata": {
        "id": "3NJxQMYNe0cC",
        "outputId": "17667115-b19d-49f1-c708-4e53c9ac7831",
        "colab": {
          "base_uri": "https://localhost:8080/"
        }
      },
      "outputs": [
        {
          "output_type": "stream",
          "name": "stdout",
          "text": [
            "1097 1097\n",
            "(1097, 256, 256, 3)\n",
            "(1097, 3)\n"
          ]
        }
      ],
      "source": [
        "data = []\n",
        "labels = []\n",
        "width,height=256,256\n",
        "depth = 3\n",
        "input_shape = (height, width, depth)\n",
        "\n",
        "classes = 4\n",
        "\n",
        "imagePaths = list(paths.list_images('/content/drive/MyDrive/ML-Datasets/LungsCancer'))\n",
        "\n",
        "train_data_dir = '/content/drive/MyDrive/ML-Datasets/LungsCancer/Normal'\n",
        "test_data_dir = '/content/drive/MyDrive/ML-Datasets/LungsCancer/Bengin'\n",
        "valid_data_dir = '/content/drive/MyDrive/ML-Datasets/LungsCancer/Malignant'\n",
        "\n",
        "data = []\n",
        "labels = []\n",
        "\n",
        "for imagePath in imagePaths:\n",
        "    label = imagePath.split(os.path.sep)[-2]\n",
        "    image = load_img(imagePath, target_size=(width, height))\n",
        "    image = img_to_array(image)\n",
        "    data.append(image)\n",
        "    labels.append(label)\n",
        "\n",
        "data = np.array(data, dtype=\"float32\")\n",
        "labels = np.array(labels)\n",
        "print(len(data), len(labels))\n",
        "\n",
        "from sklearn.preprocessing import  LabelEncoder\n",
        "from sklearn.preprocessing import OneHotEncoder\n",
        "\n",
        "# le = LabelEncoder()\n",
        "# labels = le.fit_transform(labels)\n",
        "\n",
        "# ohe = OneHotEncoder()\n",
        "# labels = ohe.fit_transform(labels)\n",
        "\n",
        "lb = LabelBinarizer()\n",
        "labels = lb.fit_transform(labels)\n",
        "\n",
        "#labels = to_categorical(labels)\n",
        "\n",
        "data, labels = shuffle(data, labels)\n",
        "\n",
        "print(data.shape)\n",
        "print(labels.shape)"
      ]
    },
    {
      "cell_type": "code",
      "execution_count": 4,
      "metadata": {
        "colab": {
          "base_uri": "https://localhost:8080/"
        },
        "id": "DtJkMb8RgeP3",
        "outputId": "4e6ac563-362f-465c-9f50-9c47bccd6a79"
      },
      "outputs": [
        {
          "output_type": "stream",
          "name": "stdout",
          "text": [
            "Train images: (877, 256, 256, 3)\n",
            "Test images: (220, 256, 256, 3)\n",
            "Train label: (877, 3)\n",
            "Test label: (220, 3)\n"
          ]
        }
      ],
      "source": [
        "test_ratio = 0.2\n",
        "# train is now 75% of the entire data set\n",
        "x_train, x_test, y_train, y_test = train_test_split(data, labels, test_size=test_ratio)\n",
        "\n",
        "print(\"Train images:\",x_train.shape)\n",
        "print(\"Test images:\",x_test.shape)\n",
        "print(\"Train label:\",y_train.shape)\n",
        "print(\"Test label:\",y_test.shape)"
      ]
    },
    {
      "cell_type": "code",
      "source": [
        "x_train, x_valid, y_train, y_valid = train_test_split(x_train, y_train,test_size=test_ratio)"
      ],
      "metadata": {
        "id": "miBqYK_eylzi"
      },
      "execution_count": null,
      "outputs": []
    },
    {
      "cell_type": "code",
      "source": [
        "print(\"Train images:\",x_train.shape)\n",
        "print(\"Test images:\",x_valid.shape)\n",
        "print(\"Train label:\",y_train.shape)\n",
        "print(\"Test label:\",y_valid.shape)"
      ],
      "metadata": {
        "id": "SbJEYBdvy8P5",
        "outputId": "09b5eb54-a5b2-4e8b-b2e2-de4fef9ccb68",
        "colab": {
          "base_uri": "https://localhost:8080/"
        }
      },
      "execution_count": null,
      "outputs": [
        {
          "output_type": "stream",
          "name": "stdout",
          "text": [
            "Train images: (768, 256, 256, 3)\n",
            "Test images: (192, 256, 256, 3)\n",
            "Train label: (768, 4)\n",
            "Test label: (192, 4)\n"
          ]
        }
      ]
    },
    {
      "cell_type": "code",
      "source": [
        "(x_train.shape[0])"
      ],
      "metadata": {
        "id": "87BtFGvszq8F",
        "outputId": "396c456a-9caa-4310-8fff-b948bddc9cf4",
        "colab": {
          "base_uri": "https://localhost:8080/"
        }
      },
      "execution_count": null,
      "outputs": [
        {
          "output_type": "execute_result",
          "data": {
            "text/plain": [
              "768"
            ]
          },
          "metadata": {},
          "execution_count": 15
        }
      ]
    },
    {
      "cell_type": "code",
      "source": [
        "train_x = ImageDataGenerator(rescale = 1./255.0,\n",
        "                             rotation_range=15,\n",
        "                             zoom_range=0.2,\n",
        "                             shear_range=0.1)\n",
        "\n",
        "test_x = ImageDataGenerator(rescale = 1./255.0\n",
        "                             )\n",
        "valid_x = ImageDataGenerator(rescale = 1./255.0)\n",
        "\n",
        "trainData = train_x.flow(x_train, y_train)#,\n",
        "#                         #  batch_size=batch_size),\n",
        "#                         #  samples_per_epoch=X_train.shape[0],\n",
        "#                         #  nb_epoch=nb_epoch,\n",
        "#                         #  validation_data=(x_valid, y_valid),\n",
        "#                          class_mode='categorical')\n",
        "\n",
        "testData = test_x.flow(x_test, y_test)#,\n",
        "                    #  input_shape[:2],\n",
        "                    #  batch_size=x_test[0],\n",
        "                    #  class_mode='categorical')\n",
        "\n",
        "validData = test_x.flow(x_valid, y_valid)#,\n",
        "                    #  target_size=input_shape[:2],\n",
        "                    #  batch_size=x_test[0],\n",
        "                    #  class_mode='categorical')"
      ],
      "metadata": {
        "id": "s8_qhn6hpR-b",
        "outputId": "f3f3f134-b388-4003-c37a-5bb24d1fe03b",
        "colab": {
          "base_uri": "https://localhost:8080/",
          "height": 245
        }
      },
      "execution_count": null,
      "outputs": [
        {
          "output_type": "error",
          "ename": "NameError",
          "evalue": "ignored",
          "traceback": [
            "\u001b[0;31m---------------------------------------------------------------------------\u001b[0m",
            "\u001b[0;31mNameError\u001b[0m                                 Traceback (most recent call last)",
            "\u001b[0;32m<ipython-input-4-87646433d517>\u001b[0m in \u001b[0;36m<cell line: 10>\u001b[0;34m()\u001b[0m\n\u001b[1;32m      8\u001b[0m \u001b[0mvalid_x\u001b[0m \u001b[0;34m=\u001b[0m \u001b[0mImageDataGenerator\u001b[0m\u001b[0;34m(\u001b[0m\u001b[0mrescale\u001b[0m \u001b[0;34m=\u001b[0m \u001b[0;36m1.\u001b[0m\u001b[0;34m/\u001b[0m\u001b[0;36m255.0\u001b[0m\u001b[0;34m)\u001b[0m\u001b[0;34m\u001b[0m\u001b[0;34m\u001b[0m\u001b[0m\n\u001b[1;32m      9\u001b[0m \u001b[0;34m\u001b[0m\u001b[0m\n\u001b[0;32m---> 10\u001b[0;31m \u001b[0mtrainData\u001b[0m \u001b[0;34m=\u001b[0m \u001b[0mtrain_x\u001b[0m\u001b[0;34m.\u001b[0m\u001b[0mflow\u001b[0m\u001b[0;34m(\u001b[0m\u001b[0mx_train\u001b[0m\u001b[0;34m,\u001b[0m \u001b[0my_train\u001b[0m\u001b[0;34m)\u001b[0m\u001b[0;31m#,\u001b[0m\u001b[0;34m\u001b[0m\u001b[0;34m\u001b[0m\u001b[0m\n\u001b[0m\u001b[1;32m     11\u001b[0m \u001b[0;31m#                         #  batch_size=batch_size),\u001b[0m\u001b[0;34m\u001b[0m\u001b[0;34m\u001b[0m\u001b[0m\n\u001b[1;32m     12\u001b[0m \u001b[0;31m#                         #  samples_per_epoch=X_train.shape[0],\u001b[0m\u001b[0;34m\u001b[0m\u001b[0;34m\u001b[0m\u001b[0m\n",
            "\u001b[0;31mNameError\u001b[0m: name 'x_train' is not defined"
          ]
        }
      ]
    },
    {
      "cell_type": "code",
      "execution_count": null,
      "metadata": {
        "id": "XLE4RO53NyW0"
      },
      "outputs": [],
      "source": [
        "!pip install lazypredict\n",
        "from lazypredict.Supervised import LazyClassifier\n",
        "clf = LazyClassifier(verbose=0, ignore_warnings=False, custom_metric=None)"
      ]
    },
    {
      "cell_type": "code",
      "source": [
        "BS = 32\n",
        "\n",
        "# Preprocess the training data with data augmentation\n",
        "train_datagen = ImageDataGenerator(rescale=1./255,            # Normalize pixel values to [0, 1]\n",
        "                                  #  rotation_range=15,         # Randomly rotate images by 10 degrees\n",
        "                                  #  width_shift_range=0.1,   # Randomly shift images horizontally by 10% of the width\n",
        "                                   # height_shift_range=0.1,  # Randomly shift images vertically by 10% of the height\n",
        "                                   # shear_range=0.1,         # Apply shear transformation with a shear angle of 10 degrees\n",
        "                                  #  zoom_range=0.2,          # Apply random zoom between 0.9x and 1.1x\n",
        "                                  #  horizontal_flip=True,    # Randomly flip images horizontally\n",
        "                                  #  vertical_flip=False      # Do not flip images vertically\n",
        "                                   )\n",
        "\n",
        "# Preprocess the validation and testing data (only rescale pixel values)\n",
        "test_datagen = ImageDataGenerator(rescale=1./255)\n",
        "\n",
        "valid_datagen = ImageDataGenerator(rescale=1./255)\n",
        "# Load and augment the training data\n",
        "train_generator = train_datagen.flow_from_directory(\n",
        "    train_data_dir,\n",
        "    target_size=input_shape[:2],\n",
        "    batch_size=BS,\n",
        "    class_mode='categorical'   # Use categorical mode for multi-class classification\n",
        ")\n",
        "\n",
        "# Load the validation data\n",
        "valid_generator = valid_datagen.flow_from_directory(\n",
        "    valid_data_dir,\n",
        "    target_size=input_shape[:2],\n",
        "    batch_size=BS,\n",
        "    class_mode='categorical'\n",
        ")\n",
        "\n",
        "# Load the testing data\n",
        "test_generator = valid_datagen.flow_from_directory(\n",
        "    test_data_dir,\n",
        "    target_size=input_shape[:2],\n",
        "    batch_size=BS,\n",
        "    class_mode='categorical'\n",
        ")\n"
      ],
      "metadata": {
        "id": "VzEdrvd5ynTz",
        "colab": {
          "base_uri": "https://localhost:8080/"
        },
        "outputId": "415fcb7a-0ff5-4e19-e450-9086effff593"
      },
      "execution_count": null,
      "outputs": [
        {
          "output_type": "stream",
          "name": "stdout",
          "text": [
            "Found 838 images belonging to 4 classes.\n",
            "Found 238 images belonging to 4 classes.\n",
            "Found 124 images belonging to 4 classes.\n"
          ]
        }
      ]
    },
    {
      "cell_type": "code",
      "source": [
        "def MiniVGGNet(width, heigth, depth, classes):\n",
        "\tmodel = Sequential()\n",
        "\tinput_shape = (heigth, width, depth)\n",
        "\tchanDim = -1\n",
        "\n",
        "\tif keras.backend.image_data_format() == \"channel_first\":\n",
        "\t\tinput_shape = (depth, heigth, width)\n",
        "\t\tchanDim = 1\n",
        "\n",
        "\tmodel.add(Conv2D(16,(3,3), padding=\"same\", input_shape=input_shape, activation=\"relu\"))\n",
        "\t# model.add(BatchNormalization(axis=chanDim))\n",
        "\t# model.add(Conv2D(32,(3,3), padding=\"same\", input_shape=input_shape, activation=\"relu\"))\n",
        "\t# model.add(BatchNormalization(axis=chanDim))\n",
        "\tmodel.add(MaxPooling2D(pool_size=(2,2)))\n",
        "\tmodel.add(Dropout(0.25))\n",
        "\n",
        "\t# model.add(Conv2D(64,(3,3), padding=\"same\", input_shape=input_shape, activation=\"relu\"))\n",
        "\t# model.add(BatchNormalization(axis=chanDim))\n",
        "\tmodel.add(Conv2D(32,(3,3), padding=\"same\", input_shape=input_shape, activation=\"relu\"))\n",
        "\t# model.add(BatchNormalization(axis=chanDim))\n",
        "\tmodel.add(MaxPooling2D(pool_size=(2,2)))\n",
        "\tmodel.add(Dropout(0.25))\n",
        "\n",
        "\tmodel.add(Conv2D(64,(3,3), padding=\"same\", input_shape=input_shape, activation=\"relu\"))\n",
        "\t# model.add(BatchNormalization(axis=chanDim))\n",
        "\tmodel.add(MaxPooling2D(pool_size=(2,2)))\n",
        "\tmodel.add(Dropout(0.25))\n",
        "\n",
        "\tmodel.add(Conv2D(128,(3,3), padding=\"same\", input_shape=input_shape, activation=\"relu\"))\n",
        "\t# model.add(BatchNormalization(axis=chanDim))\n",
        "\tmodel.add(MaxPooling2D(pool_size=(2,2)))\n",
        "\tmodel.add(Dropout(0.25))\n",
        "\n",
        "\t# model.add(BatchNormalization())\n",
        "\tmodel.add(Flatten())\n",
        "\tmodel.add(Dense(512, activation=\"relu\"))\n",
        "\t# model.add(BatchNormalization())\n",
        "\t# model.add(Dropout(0.5))\n",
        "\tmodel.add(Dense(classes, activation=\"softmax\"))\n",
        "\n",
        "\treturn model\n"
      ],
      "metadata": {
        "id": "0YVgmPybsCro"
      },
      "execution_count": null,
      "outputs": []
    },
    {
      "cell_type": "code",
      "source": [
        "def MiniVGGNetv01(model):\n",
        "  chanDim = -1\n",
        "  width,height=256,256\n",
        "  depth = 3\n",
        "  input_shape = (height, width, depth)\n",
        "\n",
        "  if keras.backend.image_data_format() == \"channel_first\":\n",
        "    input_shape = (depth, heigth, width)\n",
        "    chanDim = 1\n",
        "\n",
        "\n",
        "  model.add(Conv2D(32, (3, 3), padding='same', activation='relu', input_shape=input_shape))\n",
        "  model.add(MaxPooling2D(pool_size=(2, 2)))\n",
        "  model.add(Dropout(0.25))\n",
        "\n",
        "  model.add(Conv2D(64, (3, 3), padding='same', activation='relu'))\n",
        "  model.add(Conv2D(64, (3, 3), padding='same', activation='relu'))\n",
        "  model.add(MaxPooling2D(pool_size=(2, 2)))\n",
        "  model.add(Dropout(0.25))\n",
        "\n",
        "  model.add(Conv2D(128, (3, 3), padding='same', activation='relu'))\n",
        "  model.add(Conv2D(128, (3, 3), padding='same', activation='relu'))\n",
        "  model.add(MaxPooling2D(pool_size=(2, 2)))\n",
        "  model.add(Dropout(0.25))\n",
        "\n",
        "  model.add(Conv2D(64, (3, 3), padding='same', activation='relu'))\n",
        "  model.add(Conv2D(64, (3, 3), padding='same', activation='relu'))\n",
        "  model.add(MaxPooling2D(pool_size=(2, 2)))\n",
        "  model.add(Dropout(0.25))\n",
        "\n",
        "  model.add(Conv2D(32, (3, 3), padding='same', activation='relu'))\n",
        "  model.add(MaxPooling2D(pool_size=(2, 2)))\n",
        "  model.add(Dropout(0.25))\n",
        "\n",
        "  model.add(Flatten())\n",
        "  model.add(Dense(1024, activation=\"relu\"))\n",
        "\t# model.add(BatchNormalization())\n",
        "\t# model.add(Dropout(0.5))\n",
        "  model.add(Dense(classes, activation=\"softmax\"))\n",
        "\n",
        "  return model"
      ],
      "metadata": {
        "id": "OhMc3MUUrC6d"
      },
      "execution_count": 5,
      "outputs": []
    },
    {
      "cell_type": "code",
      "source": [
        "width,height=256,256\n",
        "depth = 3\n",
        "input_shape = (height, width, depth)\n",
        "\n",
        "classes = 3\n",
        "depth = 3\n",
        "INIT_LR = 1e-3\n",
        "EPOCHS = 50\n",
        "\n",
        "from keras.optimizers import Nadam, SGD\n",
        "model = Sequential()\n",
        "\n",
        "# cnn_model = MiniVGGNet(width, height, depth, classes)\n",
        "cnn_model = MiniVGGNetv01(model)\n",
        "\n",
        "opt = Nadam(learning_rate=INIT_LR)\n",
        "opt = SGD(learning_rate=INIT_LR)\n",
        "# opt = Adam(learning_rate=INIT_LR)\n",
        "# opt = gradient_descent_legacy.SGD (learning_rate = INIT_LR)\n",
        "cnn_model.compile(optimizer=opt, loss='categorical_crossentropy', metrics=['accuracy'], run_eagerly=True)\n",
        "cnn_model.summary()"
      ],
      "metadata": {
        "id": "5y1WoLKLtt3p",
        "outputId": "442e485e-139a-42b9-9785-9bd94508b002",
        "colab": {
          "base_uri": "https://localhost:8080/"
        }
      },
      "execution_count": 9,
      "outputs": [
        {
          "output_type": "stream",
          "name": "stdout",
          "text": [
            "Model: \"sequential_1\"\n",
            "_________________________________________________________________\n",
            " Layer (type)                Output Shape              Param #   \n",
            "=================================================================\n",
            " conv2d_8 (Conv2D)           (None, 256, 256, 32)      896       \n",
            "                                                                 \n",
            " max_pooling2d_5 (MaxPooling  (None, 128, 128, 32)     0         \n",
            " 2D)                                                             \n",
            "                                                                 \n",
            " dropout_5 (Dropout)         (None, 128, 128, 32)      0         \n",
            "                                                                 \n",
            " conv2d_9 (Conv2D)           (None, 128, 128, 64)      18496     \n",
            "                                                                 \n",
            " conv2d_10 (Conv2D)          (None, 128, 128, 64)      36928     \n",
            "                                                                 \n",
            " max_pooling2d_6 (MaxPooling  (None, 64, 64, 64)       0         \n",
            " 2D)                                                             \n",
            "                                                                 \n",
            " dropout_6 (Dropout)         (None, 64, 64, 64)        0         \n",
            "                                                                 \n",
            " conv2d_11 (Conv2D)          (None, 64, 64, 128)       73856     \n",
            "                                                                 \n",
            " conv2d_12 (Conv2D)          (None, 64, 64, 128)       147584    \n",
            "                                                                 \n",
            " max_pooling2d_7 (MaxPooling  (None, 32, 32, 128)      0         \n",
            " 2D)                                                             \n",
            "                                                                 \n",
            " dropout_7 (Dropout)         (None, 32, 32, 128)       0         \n",
            "                                                                 \n",
            " conv2d_13 (Conv2D)          (None, 32, 32, 64)        73792     \n",
            "                                                                 \n",
            " conv2d_14 (Conv2D)          (None, 32, 32, 64)        36928     \n",
            "                                                                 \n",
            " max_pooling2d_8 (MaxPooling  (None, 16, 16, 64)       0         \n",
            " 2D)                                                             \n",
            "                                                                 \n",
            " dropout_8 (Dropout)         (None, 16, 16, 64)        0         \n",
            "                                                                 \n",
            " conv2d_15 (Conv2D)          (None, 16, 16, 32)        18464     \n",
            "                                                                 \n",
            " max_pooling2d_9 (MaxPooling  (None, 8, 8, 32)         0         \n",
            " 2D)                                                             \n",
            "                                                                 \n",
            " dropout_9 (Dropout)         (None, 8, 8, 32)          0         \n",
            "                                                                 \n",
            " flatten_1 (Flatten)         (None, 2048)              0         \n",
            "                                                                 \n",
            " dense_2 (Dense)             (None, 1024)              2098176   \n",
            "                                                                 \n",
            " dense_3 (Dense)             (None, 3)                 3075      \n",
            "                                                                 \n",
            "=================================================================\n",
            "Total params: 2,508,195\n",
            "Trainable params: 2,508,195\n",
            "Non-trainable params: 0\n",
            "_________________________________________________________________\n"
          ]
        }
      ]
    },
    {
      "cell_type": "code",
      "source": [
        "# Specify the path where you want to save the best model\n",
        "checkpoint_path = 'best_model.h5'\n",
        "\n",
        "# Create the ModelCheckpoint callback\n",
        "model_checkpoint = ModelCheckpoint(\n",
        "    filepath=checkpoint_path,\n",
        "    patience = 2,\n",
        "    monitor='val_accuracy',       # Metric to monitor (could also be 'val_accuracy', etc.)\n",
        "    save_best_only=True,      # Saves only the best model based on the monitored metric\n",
        "    # save_weights_only=False,  # Set to True to save only the model's weights, not the whole model\n",
        "    verbose=1                 # Verbosity level: 0 - silent, 1 - progress bar, 2 - one line per epoch.\n",
        ")\n",
        "# checkpoint_callback = ModelCheckpoint('best_model.h5', monitor='val_accuracy', save_best_only=True, mode='max')\n",
        "# early_stopping_callback = EarlyStopping(monitor='val_loss', patience=5, mode='auto')\n",
        "my_callbacks = [model_checkpoint]"
      ],
      "metadata": {
        "id": "oDaSr1KbyVcx"
      },
      "execution_count": 7,
      "outputs": []
    },
    {
      "cell_type": "code",
      "execution_count": 10,
      "metadata": {
        "id": "Uk-YNu0kgpnZ",
        "outputId": "dfc7f8aa-ffd9-45f7-eec5-ff8125584fbd",
        "colab": {
          "base_uri": "https://localhost:8080/"
        }
      },
      "outputs": [
        {
          "output_type": "stream",
          "name": "stdout",
          "text": [
            "[INFO] training head..\n",
            "Epoch 1/50\n",
            "22/22 [==============================] - ETA: 0s - loss: 5.6251 - accuracy: 0.4251\n",
            "Epoch 1: val_accuracy improved from -inf to 0.50000, saving model to best_model.h5\n",
            "22/22 [==============================] - 14s 441ms/step - loss: 5.6251 - accuracy: 0.4251 - val_loss: 1.0545 - val_accuracy: 0.5000\n",
            "Epoch 2/50\n",
            "22/22 [==============================] - ETA: 0s - loss: 1.0038 - accuracy: 0.4693\n",
            "Epoch 2: val_accuracy improved from 0.50000 to 0.54545, saving model to best_model.h5\n",
            "22/22 [==============================] - 5s 214ms/step - loss: 1.0038 - accuracy: 0.4693 - val_loss: 1.0596 - val_accuracy: 0.5455\n",
            "Epoch 3/50\n",
            "22/22 [==============================] - ETA: 0s - loss: 0.9789 - accuracy: 0.4936\n",
            "Epoch 3: val_accuracy improved from 0.54545 to 0.61932, saving model to best_model.h5\n",
            "22/22 [==============================] - 5s 234ms/step - loss: 0.9789 - accuracy: 0.4936 - val_loss: 1.0628 - val_accuracy: 0.6193\n",
            "Epoch 4/50\n",
            "22/22 [==============================] - ETA: 0s - loss: 0.9592 - accuracy: 0.5464\n",
            "Epoch 4: val_accuracy improved from 0.61932 to 0.64773, saving model to best_model.h5\n",
            "22/22 [==============================] - 5s 228ms/step - loss: 0.9592 - accuracy: 0.5464 - val_loss: 1.0512 - val_accuracy: 0.6477\n",
            "Epoch 5/50\n",
            "22/22 [==============================] - ETA: 0s - loss: 0.9215 - accuracy: 0.5606\n",
            "Epoch 5: val_accuracy improved from 0.64773 to 0.72727, saving model to best_model.h5\n",
            "22/22 [==============================] - 5s 214ms/step - loss: 0.9215 - accuracy: 0.5606 - val_loss: 1.0335 - val_accuracy: 0.7273\n",
            "Epoch 6/50\n",
            "22/22 [==============================] - ETA: 0s - loss: 0.9309 - accuracy: 0.5563\n",
            "Epoch 6: val_accuracy did not improve from 0.72727\n",
            "22/22 [==============================] - 5s 224ms/step - loss: 0.9309 - accuracy: 0.5563 - val_loss: 1.0427 - val_accuracy: 0.6818\n",
            "Epoch 7/50\n",
            "22/22 [==============================] - ETA: 0s - loss: 0.9189 - accuracy: 0.5621\n",
            "Epoch 7: val_accuracy improved from 0.72727 to 0.76136, saving model to best_model.h5\n",
            "22/22 [==============================] - 5s 215ms/step - loss: 0.9189 - accuracy: 0.5621 - val_loss: 1.0162 - val_accuracy: 0.7614\n",
            "Epoch 8/50\n",
            "22/22 [==============================] - ETA: 0s - loss: 0.9056 - accuracy: 0.5820\n",
            "Epoch 8: val_accuracy did not improve from 0.76136\n",
            "22/22 [==============================] - 5s 213ms/step - loss: 0.9056 - accuracy: 0.5820 - val_loss: 1.0142 - val_accuracy: 0.6080\n",
            "Epoch 9/50\n",
            "22/22 [==============================] - ETA: 0s - loss: 0.8847 - accuracy: 0.5706\n",
            "Epoch 9: val_accuracy did not improve from 0.76136\n",
            "22/22 [==============================] - 5s 235ms/step - loss: 0.8847 - accuracy: 0.5706 - val_loss: 0.9958 - val_accuracy: 0.6023\n",
            "Epoch 10/50\n",
            "22/22 [==============================] - ETA: 0s - loss: 0.8461 - accuracy: 0.6320\n",
            "Epoch 10: val_accuracy did not improve from 0.76136\n",
            "22/22 [==============================] - 5s 213ms/step - loss: 0.8461 - accuracy: 0.6320 - val_loss: 1.0157 - val_accuracy: 0.5057\n",
            "Epoch 11/50\n",
            "22/22 [==============================] - ETA: 0s - loss: 0.8987 - accuracy: 0.6034\n",
            "Epoch 11: val_accuracy did not improve from 0.76136\n",
            "22/22 [==============================] - 5s 225ms/step - loss: 0.8987 - accuracy: 0.6034 - val_loss: 0.9898 - val_accuracy: 0.7045\n",
            "Epoch 12/50\n",
            "22/22 [==============================] - ETA: 0s - loss: 0.8371 - accuracy: 0.6377\n",
            "Epoch 12: val_accuracy did not improve from 0.76136\n",
            "22/22 [==============================] - 5s 231ms/step - loss: 0.8371 - accuracy: 0.6377 - val_loss: 0.9348 - val_accuracy: 0.5966\n",
            "Epoch 13/50\n",
            "22/22 [==============================] - ETA: 0s - loss: 0.8659 - accuracy: 0.6177\n",
            "Epoch 13: val_accuracy did not improve from 0.76136\n",
            "22/22 [==============================] - 5s 226ms/step - loss: 0.8659 - accuracy: 0.6177 - val_loss: 0.9693 - val_accuracy: 0.6648\n",
            "Epoch 14/50\n",
            "22/22 [==============================] - ETA: 0s - loss: 0.8705 - accuracy: 0.6362\n",
            "Epoch 14: val_accuracy did not improve from 0.76136\n",
            "22/22 [==============================] - 5s 230ms/step - loss: 0.8705 - accuracy: 0.6362 - val_loss: 0.9841 - val_accuracy: 0.6761\n",
            "Epoch 15/50\n",
            "22/22 [==============================] - ETA: 0s - loss: 0.8443 - accuracy: 0.6434\n",
            "Epoch 15: val_accuracy did not improve from 0.76136\n",
            "22/22 [==============================] - 5s 228ms/step - loss: 0.8443 - accuracy: 0.6434 - val_loss: 0.9636 - val_accuracy: 0.7102\n",
            "Epoch 16/50\n",
            "22/22 [==============================] - ETA: 0s - loss: 0.8305 - accuracy: 0.6448\n",
            "Epoch 16: val_accuracy did not improve from 0.76136\n",
            "22/22 [==============================] - 5s 212ms/step - loss: 0.8305 - accuracy: 0.6448 - val_loss: 0.9514 - val_accuracy: 0.7216\n",
            "Epoch 17/50\n",
            "22/22 [==============================] - ETA: 0s - loss: 0.8381 - accuracy: 0.6262\n",
            "Epoch 17: val_accuracy did not improve from 0.76136\n",
            "22/22 [==============================] - 5s 235ms/step - loss: 0.8381 - accuracy: 0.6262 - val_loss: 0.9052 - val_accuracy: 0.6023\n",
            "Epoch 18/50\n",
            "22/22 [==============================] - ETA: 0s - loss: 0.8353 - accuracy: 0.6334\n",
            "Epoch 18: val_accuracy did not improve from 0.76136\n",
            "22/22 [==============================] - 5s 235ms/step - loss: 0.8353 - accuracy: 0.6334 - val_loss: 1.1560 - val_accuracy: 0.3636\n",
            "Epoch 19/50\n",
            "22/22 [==============================] - ETA: 0s - loss: 0.8366 - accuracy: 0.6448\n",
            "Epoch 19: val_accuracy did not improve from 0.76136\n",
            "22/22 [==============================] - 5s 228ms/step - loss: 0.8366 - accuracy: 0.6448 - val_loss: 0.9489 - val_accuracy: 0.6705\n",
            "Epoch 20/50\n",
            "22/22 [==============================] - ETA: 0s - loss: 0.8135 - accuracy: 0.6377\n",
            "Epoch 20: val_accuracy did not improve from 0.76136\n",
            "22/22 [==============================] - 5s 225ms/step - loss: 0.8135 - accuracy: 0.6377 - val_loss: 0.9498 - val_accuracy: 0.6989\n",
            "Epoch 21/50\n",
            "22/22 [==============================] - ETA: 0s - loss: 0.8248 - accuracy: 0.6419\n",
            "Epoch 21: val_accuracy did not improve from 0.76136\n",
            "22/22 [==============================] - 5s 215ms/step - loss: 0.8248 - accuracy: 0.6419 - val_loss: 0.9274 - val_accuracy: 0.7330\n",
            "Epoch 22/50\n",
            "22/22 [==============================] - ETA: 0s - loss: 0.7968 - accuracy: 0.6476\n",
            "Epoch 22: val_accuracy did not improve from 0.76136\n",
            "22/22 [==============================] - 5s 219ms/step - loss: 0.7968 - accuracy: 0.6476 - val_loss: 0.8861 - val_accuracy: 0.7330\n",
            "Epoch 23/50\n",
            "22/22 [==============================] - ETA: 0s - loss: 0.7634 - accuracy: 0.6690\n",
            "Epoch 23: val_accuracy did not improve from 0.76136\n",
            "22/22 [==============================] - 5s 222ms/step - loss: 0.7634 - accuracy: 0.6690 - val_loss: 1.0356 - val_accuracy: 0.4659\n",
            "Epoch 24/50\n",
            "22/22 [==============================] - ETA: 0s - loss: 0.8444 - accuracy: 0.6348\n",
            "Epoch 24: val_accuracy did not improve from 0.76136\n",
            "22/22 [==============================] - 5s 214ms/step - loss: 0.8444 - accuracy: 0.6348 - val_loss: 0.9397 - val_accuracy: 0.6477\n",
            "Epoch 25/50\n",
            "22/22 [==============================] - ETA: 0s - loss: 0.7933 - accuracy: 0.6748\n",
            "Epoch 25: val_accuracy did not improve from 0.76136\n",
            "22/22 [==============================] - 5s 220ms/step - loss: 0.7933 - accuracy: 0.6748 - val_loss: 1.0038 - val_accuracy: 0.4943\n",
            "Epoch 26/50\n",
            "22/22 [==============================] - ETA: 0s - loss: 0.7836 - accuracy: 0.6862\n",
            "Epoch 26: val_accuracy improved from 0.76136 to 0.77841, saving model to best_model.h5\n",
            "22/22 [==============================] - 5s 232ms/step - loss: 0.7836 - accuracy: 0.6862 - val_loss: 0.8467 - val_accuracy: 0.7784\n",
            "Epoch 27/50\n",
            "22/22 [==============================] - ETA: 0s - loss: 0.7737 - accuracy: 0.6719\n",
            "Epoch 27: val_accuracy did not improve from 0.77841\n",
            "22/22 [==============================] - 5s 227ms/step - loss: 0.7737 - accuracy: 0.6719 - val_loss: 0.9053 - val_accuracy: 0.6875\n",
            "Epoch 28/50\n",
            "22/22 [==============================] - ETA: 0s - loss: 0.7646 - accuracy: 0.6805\n",
            "Epoch 28: val_accuracy did not improve from 0.77841\n",
            "22/22 [==============================] - 5s 234ms/step - loss: 0.7646 - accuracy: 0.6805 - val_loss: 0.9061 - val_accuracy: 0.6818\n",
            "Epoch 29/50\n",
            "22/22 [==============================] - ETA: 0s - loss: 0.7554 - accuracy: 0.6762\n",
            "Epoch 29: val_accuracy did not improve from 0.77841\n",
            "22/22 [==============================] - 5s 214ms/step - loss: 0.7554 - accuracy: 0.6762 - val_loss: 0.8948 - val_accuracy: 0.6818\n",
            "Epoch 30/50\n",
            "22/22 [==============================] - ETA: 0s - loss: 0.7462 - accuracy: 0.6762\n",
            "Epoch 30: val_accuracy improved from 0.77841 to 0.78977, saving model to best_model.h5\n",
            "22/22 [==============================] - 5s 230ms/step - loss: 0.7462 - accuracy: 0.6762 - val_loss: 0.7922 - val_accuracy: 0.7898\n",
            "Epoch 31/50\n",
            "22/22 [==============================] - ETA: 0s - loss: 0.8152 - accuracy: 0.6847\n",
            "Epoch 31: val_accuracy did not improve from 0.78977\n",
            "22/22 [==============================] - 5s 237ms/step - loss: 0.8152 - accuracy: 0.6847 - val_loss: 0.8779 - val_accuracy: 0.5966\n",
            "Epoch 32/50\n",
            "22/22 [==============================] - ETA: 0s - loss: 0.7613 - accuracy: 0.6904\n",
            "Epoch 32: val_accuracy did not improve from 0.78977\n",
            "22/22 [==============================] - 5s 226ms/step - loss: 0.7613 - accuracy: 0.6904 - val_loss: 0.8673 - val_accuracy: 0.7273\n",
            "Epoch 33/50\n",
            "22/22 [==============================] - ETA: 0s - loss: 0.7559 - accuracy: 0.6819\n",
            "Epoch 33: val_accuracy did not improve from 0.78977\n",
            "22/22 [==============================] - 5s 230ms/step - loss: 0.7559 - accuracy: 0.6819 - val_loss: 1.0178 - val_accuracy: 0.4545\n",
            "Epoch 34/50\n",
            "22/22 [==============================] - ETA: 0s - loss: 0.7353 - accuracy: 0.7204\n",
            "Epoch 34: val_accuracy did not improve from 0.78977\n",
            "22/22 [==============================] - 5s 221ms/step - loss: 0.7353 - accuracy: 0.7204 - val_loss: 0.8427 - val_accuracy: 0.7330\n",
            "Epoch 35/50\n",
            "22/22 [==============================] - ETA: 0s - loss: 0.7141 - accuracy: 0.7133\n",
            "Epoch 35: val_accuracy did not improve from 0.78977\n",
            "22/22 [==============================] - 5s 216ms/step - loss: 0.7141 - accuracy: 0.7133 - val_loss: 0.8938 - val_accuracy: 0.7045\n",
            "Epoch 36/50\n",
            "22/22 [==============================] - ETA: 0s - loss: 0.6835 - accuracy: 0.7090\n",
            "Epoch 36: val_accuracy did not improve from 0.78977\n",
            "22/22 [==============================] - 5s 233ms/step - loss: 0.6835 - accuracy: 0.7090 - val_loss: 0.7924 - val_accuracy: 0.7159\n",
            "Epoch 37/50\n",
            "22/22 [==============================] - ETA: 0s - loss: 0.7472 - accuracy: 0.6933\n",
            "Epoch 37: val_accuracy did not improve from 0.78977\n",
            "22/22 [==============================] - 5s 229ms/step - loss: 0.7472 - accuracy: 0.6933 - val_loss: 0.9759 - val_accuracy: 0.5000\n",
            "Epoch 38/50\n",
            "22/22 [==============================] - ETA: 0s - loss: 0.7198 - accuracy: 0.6990\n",
            "Epoch 38: val_accuracy did not improve from 0.78977\n",
            "22/22 [==============================] - 5s 214ms/step - loss: 0.7198 - accuracy: 0.6990 - val_loss: 0.9708 - val_accuracy: 0.5114\n",
            "Epoch 39/50\n",
            "22/22 [==============================] - ETA: 0s - loss: 0.7192 - accuracy: 0.7275\n",
            "Epoch 39: val_accuracy did not improve from 0.78977\n",
            "22/22 [==============================] - 5s 238ms/step - loss: 0.7192 - accuracy: 0.7275 - val_loss: 0.8821 - val_accuracy: 0.6193\n",
            "Epoch 40/50\n",
            "22/22 [==============================] - ETA: 0s - loss: 0.7274 - accuracy: 0.6933\n",
            "Epoch 40: val_accuracy did not improve from 0.78977\n",
            "22/22 [==============================] - 5s 215ms/step - loss: 0.7274 - accuracy: 0.6933 - val_loss: 0.8753 - val_accuracy: 0.6932\n",
            "Epoch 41/50\n",
            "22/22 [==============================] - ETA: 0s - loss: 0.6776 - accuracy: 0.7147\n",
            "Epoch 41: val_accuracy did not improve from 0.78977\n",
            "22/22 [==============================] - 5s 228ms/step - loss: 0.6776 - accuracy: 0.7147 - val_loss: 0.7623 - val_accuracy: 0.7500\n",
            "Epoch 42/50\n",
            "22/22 [==============================] - ETA: 0s - loss: 0.7020 - accuracy: 0.7332\n",
            "Epoch 42: val_accuracy did not improve from 0.78977\n",
            "22/22 [==============================] - 5s 235ms/step - loss: 0.7020 - accuracy: 0.7332 - val_loss: 0.7662 - val_accuracy: 0.7216\n",
            "Epoch 43/50\n",
            "22/22 [==============================] - ETA: 0s - loss: 0.7209 - accuracy: 0.7118\n",
            "Epoch 43: val_accuracy did not improve from 0.78977\n",
            "22/22 [==============================] - 5s 226ms/step - loss: 0.7209 - accuracy: 0.7118 - val_loss: 0.7943 - val_accuracy: 0.7330\n",
            "Epoch 44/50\n",
            "22/22 [==============================] - ETA: 0s - loss: 0.6860 - accuracy: 0.7175\n",
            "Epoch 44: val_accuracy did not improve from 0.78977\n",
            "22/22 [==============================] - 5s 230ms/step - loss: 0.6860 - accuracy: 0.7175 - val_loss: 0.7369 - val_accuracy: 0.7784\n",
            "Epoch 45/50\n",
            "22/22 [==============================] - ETA: 0s - loss: 0.7104 - accuracy: 0.7161\n",
            "Epoch 45: val_accuracy did not improve from 0.78977\n",
            "22/22 [==============================] - 5s 219ms/step - loss: 0.7104 - accuracy: 0.7161 - val_loss: 0.9413 - val_accuracy: 0.5455\n",
            "Epoch 46/50\n",
            "22/22 [==============================] - ETA: 0s - loss: 0.6623 - accuracy: 0.7332\n",
            "Epoch 46: val_accuracy did not improve from 0.78977\n",
            "22/22 [==============================] - 5s 228ms/step - loss: 0.6623 - accuracy: 0.7332 - val_loss: 0.8492 - val_accuracy: 0.7045\n",
            "Epoch 47/50\n",
            "22/22 [==============================] - ETA: 0s - loss: 0.6901 - accuracy: 0.7247\n",
            "Epoch 47: val_accuracy did not improve from 0.78977\n",
            "22/22 [==============================] - 5s 233ms/step - loss: 0.6901 - accuracy: 0.7247 - val_loss: 0.7890 - val_accuracy: 0.7273\n",
            "Epoch 48/50\n",
            "22/22 [==============================] - ETA: 0s - loss: 0.6818 - accuracy: 0.7147\n",
            "Epoch 48: val_accuracy did not improve from 0.78977\n",
            "22/22 [==============================] - 5s 236ms/step - loss: 0.6818 - accuracy: 0.7147 - val_loss: 0.7460 - val_accuracy: 0.7670\n",
            "Epoch 49/50\n",
            "22/22 [==============================] - ETA: 0s - loss: 0.6720 - accuracy: 0.7147\n",
            "Epoch 49: val_accuracy did not improve from 0.78977\n",
            "22/22 [==============================] - 5s 215ms/step - loss: 0.6720 - accuracy: 0.7147 - val_loss: 0.7695 - val_accuracy: 0.7500\n",
            "Epoch 50/50\n",
            "22/22 [==============================] - ETA: 0s - loss: 0.6838 - accuracy: 0.7261\n",
            "Epoch 50: val_accuracy did not improve from 0.78977\n",
            "22/22 [==============================] - 5s 241ms/step - loss: 0.6838 - accuracy: 0.7261 - val_loss: 0.7767 - val_accuracy: 0.7557\n",
            "Done !!\n"
          ]
        }
      ],
      "source": [
        "from keras.engine.training import callbacks_module\n",
        "# train the head of the network\n",
        "print(\"[INFO] training head..\")\n",
        "# print(train_generator.shape, test_generator.shape)\n",
        "\n",
        "# x_train = train_generator\n",
        "# y_train = train_generator.classes\n",
        "# print (len(y_train))\n",
        "\n",
        "h = cnn_model.fit(x_train, y_train, epochs=EPOCHS, validation_split=0.2, callbacks=my_callbacks)\n",
        "\n",
        "# h = cnn_model.fit(\n",
        "#         train_generator,\n",
        "#         # steps_per_epoch=len(train_generator) // BS,\n",
        "#         epochs=EPOCHS,\n",
        "#         validation_data=valid_generator,\n",
        "#         # validation_steps=len(valid_generator) // BS)\n",
        "#         callbacks = my_callbacks\n",
        "#         )\n",
        "print(\"Done !!\")"
      ]
    },
    {
      "cell_type": "code",
      "execution_count": 11,
      "metadata": {
        "colab": {
          "base_uri": "https://localhost:8080/"
        },
        "id": "odrWjuB-hKRF",
        "outputId": "5fc2d664-1125-4324-e881-74efda6f3103"
      },
      "outputs": [
        {
          "output_type": "stream",
          "name": "stdout",
          "text": [
            "Collecting scikit-plot\n",
            "  Downloading scikit_plot-0.3.7-py3-none-any.whl (33 kB)\n",
            "Requirement already satisfied: matplotlib>=1.4.0 in /usr/local/lib/python3.10/dist-packages (from scikit-plot) (3.7.1)\n",
            "Requirement already satisfied: scikit-learn>=0.18 in /usr/local/lib/python3.10/dist-packages (from scikit-plot) (1.2.2)\n",
            "Requirement already satisfied: scipy>=0.9 in /usr/local/lib/python3.10/dist-packages (from scikit-plot) (1.10.1)\n",
            "Requirement already satisfied: joblib>=0.10 in /usr/local/lib/python3.10/dist-packages (from scikit-plot) (1.3.2)\n",
            "Requirement already satisfied: contourpy>=1.0.1 in /usr/local/lib/python3.10/dist-packages (from matplotlib>=1.4.0->scikit-plot) (1.1.0)\n",
            "Requirement already satisfied: cycler>=0.10 in /usr/local/lib/python3.10/dist-packages (from matplotlib>=1.4.0->scikit-plot) (0.11.0)\n",
            "Requirement already satisfied: fonttools>=4.22.0 in /usr/local/lib/python3.10/dist-packages (from matplotlib>=1.4.0->scikit-plot) (4.42.0)\n",
            "Requirement already satisfied: kiwisolver>=1.0.1 in /usr/local/lib/python3.10/dist-packages (from matplotlib>=1.4.0->scikit-plot) (1.4.4)\n",
            "Requirement already satisfied: numpy>=1.20 in /usr/local/lib/python3.10/dist-packages (from matplotlib>=1.4.0->scikit-plot) (1.23.5)\n",
            "Requirement already satisfied: packaging>=20.0 in /usr/local/lib/python3.10/dist-packages (from matplotlib>=1.4.0->scikit-plot) (23.1)\n",
            "Requirement already satisfied: pillow>=6.2.0 in /usr/local/lib/python3.10/dist-packages (from matplotlib>=1.4.0->scikit-plot) (9.4.0)\n",
            "Requirement already satisfied: pyparsing>=2.3.1 in /usr/local/lib/python3.10/dist-packages (from matplotlib>=1.4.0->scikit-plot) (3.1.1)\n",
            "Requirement already satisfied: python-dateutil>=2.7 in /usr/local/lib/python3.10/dist-packages (from matplotlib>=1.4.0->scikit-plot) (2.8.2)\n",
            "Requirement already satisfied: threadpoolctl>=2.0.0 in /usr/local/lib/python3.10/dist-packages (from scikit-learn>=0.18->scikit-plot) (3.2.0)\n",
            "Requirement already satisfied: six>=1.5 in /usr/local/lib/python3.10/dist-packages (from python-dateutil>=2.7->matplotlib>=1.4.0->scikit-plot) (1.16.0)\n",
            "Installing collected packages: scikit-plot\n",
            "Successfully installed scikit-plot-0.3.7\n"
          ]
        }
      ],
      "source": [
        "!pip install scikit-plot"
      ]
    },
    {
      "cell_type": "code",
      "source": [
        "def plot_confusion_matrix(cm, classes,\n",
        "                          normalize=False,\n",
        "                          title='Confusion matrix',\n",
        "                          cmap=plt.cm.Blues):\n",
        "    \"\"\"\n",
        "    This function prints and plots the confusion matrix.\n",
        "    Normalization can be applied by setting `normalize=True`.\n",
        "    \"\"\"\n",
        "    plt.figure(figsize = (6,6))\n",
        "    plt.imshow(cm, interpolation='nearest', cmap=cmap)\n",
        "    plt.title(title)\n",
        "    plt.colorbar()\n",
        "    tick_marks = np.arange(len(classes))\n",
        "    plt.xticks(tick_marks, classes, rotation=90)\n",
        "    plt.yticks(tick_marks, classes)\n",
        "    if normalize:\n",
        "        cm = cm.astype('float') / cm.sum(axis=1)[:, np.newaxis]\n",
        "\n",
        "    thresh = cm.max() / 2.\n",
        "    cm = np.round(cm,2)\n",
        "    for i, j in itertools.product(range(cm.shape[0]), range(cm.shape[1])):\n",
        "        plt.text(j, i, cm[i, j],\n",
        "                 horizontalalignment=\"center\",\n",
        "                 color=\"white\" if cm[i, j] > thresh else \"black\")\n",
        "    plt.tight_layout()\n",
        "    plt.ylabel('True label')\n",
        "    plt.xlabel('Predicted label')\n",
        "    plt.show()"
      ],
      "metadata": {
        "id": "1Nky3aNEqELw"
      },
      "execution_count": null,
      "outputs": []
    },
    {
      "cell_type": "code",
      "execution_count": 16,
      "metadata": {
        "colab": {
          "base_uri": "https://localhost:8080/",
          "height": 1000
        },
        "id": "XoFY_Xm6g-KO",
        "outputId": "ffa1ac45-bbb6-4957-f82d-682acca884ad"
      },
      "outputs": [
        {
          "output_type": "stream",
          "name": "stdout",
          "text": [
            "[INFO] evaluating network...\n",
            "7/7 [==============================] - 1s 46ms/step\n",
            "28/28 [==============================] - 1s 33ms/step\n",
            "\n",
            "Trainig Accuracy Score:- 78.22120866590649\n",
            "\n",
            "Testing Accuracy Score:- 79.54545454545455\n",
            "\n",
            "Traning Graph:- \n",
            " \n"
          ]
        },
        {
          "output_type": "display_data",
          "data": {
            "text/plain": [
              "<Figure size 640x480 with 1 Axes>"
            ],
            "image/png": "[encoded data removed]"
          },
          "metadata": {}
        },
        {
          "output_type": "display_data",
          "data": {
            "text/plain": [
              "<Figure size 640x480 with 1 Axes>"
            ],
            "image/png": "[encoded data removed]"
          },
          "metadata": {}
        }
      ],
      "source": [
        "#!pip install scikit-plot\n",
        "from sklearn.metrics import classification_report\n",
        "import matplotlib.pyplot as plt\n",
        "import numpy as np\n",
        "import scikitplot as skplt\n",
        "from sklearn.metrics import accuracy_score\n",
        "import numpy as np\n",
        "from sklearn import metrics\n",
        "import tensorflow\n",
        "\n",
        "cnn_model = tensorflow.keras.models.load_model('best_model.h5')\n",
        "# x_test = test_generator\n",
        "# x_train = train_generator\n",
        "# y_test = test_generator.classes\n",
        "\n",
        "print(\"[INFO] evaluating network...\")\n",
        "predIdxs = cnn_model.predict(x_test)#, batch_size=BS)\n",
        "predIdxs = np.argmax(predIdxs, axis=1)\n",
        "\n",
        "trainpredIdxs = cnn_model.predict(x_train)#, batch_size=BS)\n",
        "trainpredIdxs = np.argmax(trainpredIdxs, axis=1)\n",
        "\n",
        "trainCNNScore=accuracy_score(trainpredIdxs,y_train.argmax(axis=1))*100\n",
        "CNNScore=accuracy_score(predIdxs,y_test.argmax(axis=1))*100\n",
        "\n",
        "print(\"\\nTrainig Accuracy Score:-\",trainCNNScore)\n",
        "print(\"\\nTesting Accuracy Score:-\",CNNScore)\n",
        "print(\"\\nTraning Graph:- \\n \")\n",
        "\n",
        "# plot the training loss and accuracy\n",
        "N = EPOCHS\n",
        "plt.style.use(\"ggplot\")\n",
        "plt.figure()\n",
        "plt.plot(np.arange(0, N), h.history[\"loss\"], label=\"train_loss\")\n",
        "plt.plot(np.arange(0, N), h.history[\"val_loss\"], label=\"val_loss\")\n",
        "plt.title(\"Training Loss vs. validation Loss\")\n",
        "plt.xlabel(\"Epoch #\")\n",
        "plt.ylabel(\"Loss\")\n",
        "plt.legend(loc=\"lower left\",)\n",
        "plt.show()\n",
        "\n",
        "plt.figure()\n",
        "plt.plot(np.arange(0, N), h.history[\"accuracy\"], label=\"train_acc\")\n",
        "plt.plot(np.arange(0, N), h.history[\"val_accuracy\"], label=\"val_acc\")\n",
        "plt.title(\"Training Accuracy vs. Validation Accuracy\")\n",
        "plt.xlabel(\"Epoch #\")\n",
        "plt.ylabel(\"Loss/Accuracy\")\n",
        "plt.legend(loc=\"lower left\",)\n",
        "plt.show()"
      ]
    },
    {
      "cell_type": "code",
      "execution_count": 18,
      "metadata": {
        "colab": {
          "base_uri": "https://localhost:8080/"
        },
        "id": "4YDvUMUphWyY",
        "outputId": "26a2b3c9-7086-437b-c440-746aa6b279c2"
      },
      "outputs": [
        {
          "output_type": "stream",
          "name": "stdout",
          "text": [
            "28/28 [==============================] - 1s 29ms/step\n",
            "7/7 [==============================] - 0s 25ms/step\n",
            "(877, 1024)\n"
          ]
        }
      ],
      "source": [
        "extractCNN = Model(cnn_model.inputs, cnn_model.layers[-2].output)\n",
        "\n",
        "#del(data)\n",
        "#del(labels)\n",
        "feat_trainCNN  = extractCNN.predict(x_train)\n",
        "feat_testCNN = extractCNN.predict(x_test)\n",
        "\n",
        "print(feat_trainCNN.shape)"
      ]
    },
    {
      "cell_type": "code",
      "execution_count": 19,
      "metadata": {
        "colab": {
          "base_uri": "https://localhost:8080/"
        },
        "id": "hwNaYsLKhjPJ",
        "outputId": "683a379e-b3d3-4bbf-ddb5-07a2a2f5a843"
      },
      "outputs": [
        {
          "output_type": "stream",
          "name": "stdout",
          "text": [
            "SVM Training Accuracy Score:- 99.65792474344356\n",
            "\n",
            "SVM Testing Accuracy Score:- 97.27272727272728\n"
          ]
        }
      ],
      "source": [
        "from sklearn.svm import SVC\n",
        "\n",
        "svm = SVC(kernel='linear')\n",
        "svm.fit(feat_trainCNN,np.argmax(y_train,axis=1))\n",
        "\n",
        "TrainSVMScoreCNN=svm.score(feat_trainCNN,np.argmax(y_train,axis=1))*100\n",
        "print(\"SVM Training Accuracy Score:-\",TrainSVMScoreCNN)\n",
        "\n",
        "TestSVMScoreCNN=svm.score(feat_testCNN,np.argmax(y_test,axis=1))*100\n",
        "print(\"\\nSVM Testing Accuracy Score:-\",TestSVMScoreCNN)"
      ]
    },
    {
      "cell_type": "code",
      "execution_count": 20,
      "metadata": {
        "colab": {
          "base_uri": "https://localhost:8080/"
        },
        "id": "2MIzKIZfhqqC",
        "outputId": "fd23fb74-0b09-4765-de9e-4a06c0b410e2"
      },
      "outputs": [
        {
          "output_type": "stream",
          "name": "stdout",
          "text": [
            "Decision Tree Training Accuracy Score:- 100.0\n",
            "\n",
            "Decision Tree Testing Accuracy Score:- 84.54545454545455\n"
          ]
        }
      ],
      "source": [
        "from sklearn.tree import DecisionTreeClassifier\n",
        "\n",
        "clf = DecisionTreeClassifier(random_state=0)\n",
        "clf = clf.fit(feat_trainCNN,np.argmax(y_train,axis=1))\n",
        "\n",
        "TrainDecisionScoreCNN=clf.score(feat_trainCNN,np.argmax(y_train,axis=1))*100\n",
        "print(\"Decision Tree Training Accuracy Score:-\",TrainDecisionScoreCNN)\n",
        "\n",
        "\n",
        "TestDecisionScoreCNN=clf.score(feat_testCNN,np.argmax(y_test,axis=1))*100\n",
        "print(\"\\nDecision Tree Testing Accuracy Score:-\",TestDecisionScoreCNN)"
      ]
    },
    {
      "cell_type": "code",
      "execution_count": 21,
      "metadata": {
        "colab": {
          "base_uri": "https://localhost:8080/"
        },
        "id": "OBnKNWgChyWV",
        "outputId": "c9c9c491-b413-40bc-d955-186fc7b8d6c9"
      },
      "outputs": [
        {
          "output_type": "stream",
          "name": "stdout",
          "text": [
            "KNN Training Accuracy Score:- 98.4036488027366\n",
            "\n",
            "KNN Testing Accuracy Score:- 96.81818181818181\n"
          ]
        }
      ],
      "source": [
        "from sklearn.neighbors import KNeighborsClassifier\n",
        "\n",
        "knn = KNeighborsClassifier(n_neighbors=5)\n",
        "knn.fit(feat_trainCNN,np.argmax(y_train,axis=1))\n",
        "\n",
        "TrainKNNScoreCNN=knn.score(feat_trainCNN,np.argmax(y_train,axis=1))*100\n",
        "print(\"KNN Training Accuracy Score:-\",TrainKNNScoreCNN)\n",
        "\n",
        "TestKNNScoreCNN=knn.score(feat_testCNN,np.argmax(y_test,axis=1))*100\n",
        "print(\"\\nKNN Testing Accuracy Score:-\",TestKNNScoreCNN)"
      ]
    },
    {
      "cell_type": "code",
      "execution_count": 22,
      "metadata": {
        "colab": {
          "base_uri": "https://localhost:8080/"
        },
        "id": "Gux9LyNoh5f7",
        "outputId": "e007d4de-fa34-41d4-c0ff-eecb9e2a1e79"
      },
      "outputs": [
        {
          "output_type": "stream",
          "name": "stdout",
          "text": [
            "\n",
            "GaussianNaive Bayes Training Accuracy Score:- 73.09007981755985\n",
            "\n",
            "GaussianNaive Bayes Testing Accuracy Score:- 73.18181818181819\n"
          ]
        }
      ],
      "source": [
        "from sklearn.naive_bayes import GaussianNB\n",
        "\n",
        "gnb = GaussianNB()\n",
        "gnb.fit(feat_trainCNN,np.argmax(y_train,axis=1))\n",
        "\n",
        "TrainNBScoreCNN=gnb.score(feat_trainCNN,np.argmax(y_train,axis=1))*100\n",
        "print(\"\\nGaussianNaive Bayes Training Accuracy Score:-\",TrainNBScoreCNN)\n",
        "\n",
        "TestNBScoreCNN=gnb.score(feat_testCNN,np.argmax(y_test,axis=1))*100\n",
        "print(\"\\nGaussianNaive Bayes Testing Accuracy Score:-\",TestNBScoreCNN)"
      ]
    }
  ],
  "metadata": {
    "colab": {
      "provenance": [],
      "gpuType": "T4",
      "include_colab_link": true
    },
    "kernelspec": {
      "display_name": "Python 3",
      "name": "python3"
    },
    "language_info": {
      "name": "python"
    },
    "accelerator": "GPU"
  },
  "nbformat": 4,
  "nbformat_minor": 0
}